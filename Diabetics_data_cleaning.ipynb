{
  "nbformat": 4,
  "nbformat_minor": 0,
  "metadata": {
    "colab": {
      "provenance": [],
      "mount_file_id": "1sWj6ei6SC1q2dbxO5110yetBTtG0oExE",
      "authorship_tag": "ABX9TyPQVYtm2WJJdJd5wcex04iI",
      "include_colab_link": true
    },
    "kernelspec": {
      "name": "python3",
      "display_name": "Python 3"
    },
    "language_info": {
      "name": "python"
    }
  },
  "cells": [
    {
      "cell_type": "markdown",
      "metadata": {
        "id": "view-in-github",
        "colab_type": "text"
      },
      "source": [
        "<a href=\"https://colab.research.google.com/github/YasiruMM/Medicine-Prediction-Grp-22/blob/Diabetics_-Data_-Cleaning/Diabetics_data_cleaning.ipynb\" target=\"_parent\"><img src=\"https://colab.research.google.com/assets/colab-badge.svg\" alt=\"Open In Colab\"/></a>"
      ]
    },
    {
      "cell_type": "markdown",
      "source": [
        "#**Data Preprocessing**#"
      ],
      "metadata": {
        "id": "tKXQXdm2VygZ"
      }
    },
    {
      "cell_type": "markdown",
      "source": [
        "###**Imports**###"
      ],
      "metadata": {
        "id": "f0U8_7RtXE5W"
      }
    },
    {
      "cell_type": "code",
      "source": [
        "import pandas as pd\n",
        "import os\n",
        "import glob\n",
        "import re"
      ],
      "metadata": {
        "id": "66Mq3WskV7k3"
      },
      "execution_count": 34,
      "outputs": []
    },
    {
      "cell_type": "markdown",
      "source": [
        "##Creating a basic structure for the ALPHA GLUCO medicine##"
      ],
      "metadata": {
        "id": "RUQ3-QG-YQTD"
      }
    },
    {
      "cell_type": "markdown",
      "source": [
        "###Creating the basic structure for the xl sheets that contains item code"
      ],
      "metadata": {
        "id": "sUg9WtvSCEUx"
      }
    },
    {
      "cell_type": "code",
      "source": [
        "# Define the column names\n",
        "column_names = ['Item Code', 'Item Name', 'P Price', 'R Price', 'PurchPrice', 'RetailPrice', 'Total']\n",
        "\n",
        "# Define the file paths\n",
        "file_paths = ['03.24.xlsx', '06.24.xlsx', '07.24.xlsx', '08.24.xlsx', '09.24.xlsx', '10.24.xlsx']\n",
        "\n",
        "# Create an empty list to store the dataframes\n",
        "dfs = []\n",
        "\n",
        "for file_path in file_paths:\n",
        "    try:\n",
        "        df = pd.read_excel(file_path, names=column_names)\n",
        "        dfs.append(df)\n",
        "    except FileNotFoundError:\n",
        "        print(f\"File not found: {file_path}\")\n",
        "    except Exception as e:\n",
        "        print(f\"An error occurred while reading {file_path}: {e}\")\n",
        "\n",
        "# Concatenate all the dataframes into a single dataframe\n",
        "combined_df = pd.concat(dfs, ignore_index=True)\n",
        "\n",
        "print(combined_df.head())\n"
      ],
      "metadata": {
        "colab": {
          "base_uri": "https://localhost:8080/"
        },
        "id": "BhDjHnBUA0rV",
        "outputId": "83db15c9-07de-452e-b3a0-c3156e2891ee"
      },
      "execution_count": 29,
      "outputs": [
        {
          "output_type": "stream",
          "name": "stdout",
          "text": [
            "   Item Code       Item Name  P Price  R Price  PurchPrice  RetailPrice  Total\n",
            "0      11052    DIABOSE 50MG     44.7     52.8   1745803.2    2062156.8   2934\n",
            "1      11052    DIABOSE 50MG     45.4     52.8   1737412.6    2020603.2   3185\n",
            "2      11257  GLUCOBAY 100MG     75.7     47.7      1514.0        954.0      8\n",
            "3      11257  GLUCOBAY 100MG     75.7     88.5    360710.5     421702.5    684\n",
            "4      11153   GLUCOBAY 50MG     46.8     26.8       327.6        187.6      0\n"
          ]
        }
      ]
    },
    {
      "cell_type": "code",
      "source": [
        "# Removed the 'Item Code' and 'Total' columns\n",
        "combined_df = combined_df.drop(columns=['Item Code', 'Total'])\n",
        "\n",
        "combined_df.to_excel('modified_data.xlsx', index=False, header=True)\n",
        "\n",
        "print(combined_df.head())\n"
      ],
      "metadata": {
        "colab": {
          "base_uri": "https://localhost:8080/"
        },
        "id": "dq9Zwi0qBHGc",
        "outputId": "cc36e148-5934-4b4c-de10-ae26c2eeef6d"
      },
      "execution_count": 30,
      "outputs": [
        {
          "output_type": "stream",
          "name": "stdout",
          "text": [
            "        Item Name  P Price  R Price  PurchPrice  RetailPrice\n",
            "0    DIABOSE 50MG     44.7     52.8   1745803.2    2062156.8\n",
            "1    DIABOSE 50MG     45.4     52.8   1737412.6    2020603.2\n",
            "2  GLUCOBAY 100MG     75.7     47.7      1514.0        954.0\n",
            "3  GLUCOBAY 100MG     75.7     88.5    360710.5     421702.5\n",
            "4   GLUCOBAY 50MG     46.8     26.8       327.6        187.6\n"
          ]
        }
      ]
    },
    {
      "cell_type": "markdown",
      "source": [
        "###Creating the basic structure for the xl sheets that do not contains item code###"
      ],
      "metadata": {
        "id": "1H98yUWRCrtC"
      }
    },
    {
      "cell_type": "code",
      "source": [
        "column_names = ['Item Name', 'P Price', 'R Price', 'PurchPrice', 'RetailPrice', 'Total']\n",
        "\n",
        "file_paths = ['02.24.xlsx', '04.24.xlsx', '05.24.xlsx']\n",
        "\n",
        "\n",
        "dfs = []\n",
        "\n",
        "for file_path in file_paths:\n",
        "    try:\n",
        "        df = pd.read_excel(file_path, names=column_names)\n",
        "        dfs.append(df)\n",
        "    except FileNotFoundError:\n",
        "        print(f\"File not found: {file_path}\")\n",
        "    except Exception as e:\n",
        "        print(f\"An error occurred while reading {file_path}: {e}\")\n",
        "\n",
        "combined_df = pd.concat(dfs, ignore_index=True)\n",
        "\n",
        "print(combined_df.head())\n"
      ],
      "metadata": {
        "colab": {
          "base_uri": "https://localhost:8080/"
        },
        "id": "9HqdmhJEBMOv",
        "outputId": "38661a73-ffa8-4bd0-deee-ddc8b6733a59"
      },
      "execution_count": 31,
      "outputs": [
        {
          "output_type": "stream",
          "name": "stdout",
          "text": [
            "        Item Name  P Price  R Price  PurchPrice  RetailPrice  Total\n",
            "0    DIABOSE 50MG     44.7     52.8   1745803.2    2062156.8   4243\n",
            "1    DIABOSE 50MG     45.4     52.8   1737412.6    2020603.2   3427\n",
            "2  GLUCOBAY 100MG     75.7     47.7      1514.0        954.0      1\n",
            "3  GLUCOBAY 100MG     75.7     88.5    360710.5     421702.5    753\n",
            "4   GLUCOBAY 50MG     46.8     26.8       327.6        187.6      0\n"
          ]
        }
      ]
    },
    {
      "cell_type": "code",
      "source": [
        "# Removed the 'Total' columns\n",
        "combined_df = combined_df.drop(columns=['Total'])\n",
        "\n",
        "combined_df.to_excel('modified_data_2.xlsx', index=False, header=True)\n",
        "\n",
        "print(combined_df.head())"
      ],
      "metadata": {
        "colab": {
          "base_uri": "https://localhost:8080/"
        },
        "id": "5MfBllPtBZti",
        "outputId": "0b39d2a3-2928-49d7-d797-cf5e39b74d1e"
      },
      "execution_count": 32,
      "outputs": [
        {
          "output_type": "stream",
          "name": "stdout",
          "text": [
            "        Item Name  P Price  R Price  PurchPrice  RetailPrice\n",
            "0    DIABOSE 50MG     44.7     52.8   1745803.2    2062156.8\n",
            "1    DIABOSE 50MG     45.4     52.8   1737412.6    2020603.2\n",
            "2  GLUCOBAY 100MG     75.7     47.7      1514.0        954.0\n",
            "3  GLUCOBAY 100MG     75.7     88.5    360710.5     421702.5\n",
            "4   GLUCOBAY 50MG     46.8     26.8       327.6        187.6\n"
          ]
        }
      ]
    },
    {
      "cell_type": "markdown",
      "source": [
        "###Combining the two datasets###"
      ],
      "metadata": {
        "id": "vPEdrzjAC92R"
      }
    },
    {
      "cell_type": "code",
      "source": [
        "# Loaded the two datasets\n",
        "modified_data = pd.read_excel('modified_data.xlsx')\n",
        "modified_data_2 = pd.read_excel('modified_data_2.xlsx')\n",
        "\n",
        "# Combine the datasets\n",
        "combined_dataset = pd.concat([modified_data, modified_data_2], ignore_index=True)\n",
        "\n",
        "print(combined_dataset.head())\n",
        "\n",
        "combined_dataset.to_excel('combined_dataset.xlsx', index=False)"
      ],
      "metadata": {
        "colab": {
          "base_uri": "https://localhost:8080/"
        },
        "id": "lJAap4WCBgjh",
        "outputId": "fc120b7b-8c6d-4411-c791-b71e259d2781"
      },
      "execution_count": 33,
      "outputs": [
        {
          "output_type": "stream",
          "name": "stdout",
          "text": [
            "        Item Name  P Price  R Price  PurchPrice  RetailPrice\n",
            "0    DIABOSE 50MG     44.7     52.8   1745803.2    2062156.8\n",
            "1    DIABOSE 50MG     45.4     52.8   1737412.6    2020603.2\n",
            "2  GLUCOBAY 100MG     75.7     47.7      1514.0        954.0\n",
            "3  GLUCOBAY 100MG     75.7     88.5    360710.5     421702.5\n",
            "4   GLUCOBAY 50MG     46.8     26.8       327.6        187.6\n"
          ]
        }
      ]
    },
    {
      "cell_type": "markdown",
      "source": [
        "###Finalized dataset for ALPHA GLUCO###"
      ],
      "metadata": {
        "id": "8FNT4Qb3DEd6"
      }
    },
    {
      "cell_type": "code",
      "source": [
        "def extract_dosage(item_name):\n",
        "    match = re.search(r'(\\d+\\w*)MG', item_name, re.IGNORECASE)\n",
        "    if match:\n",
        "        return match.group(1) + \"MG\"\n",
        "    else:\n",
        "        return None\n",
        "\n",
        "combined_dataset['Dosage'] = combined_dataset['Item Name'].apply(extract_dosage)\n",
        "print(combined_dataset.head())\n",
        "\n",
        "combined_dataset.to_excel('ALPHA GLUCO.xlsx', index=False)\n"
      ],
      "metadata": {
        "colab": {
          "base_uri": "https://localhost:8080/"
        },
        "id": "YWtuBI20BlWX",
        "outputId": "7c22dd7c-66c4-4ed5-bf41-9b318424e3fb"
      },
      "execution_count": 35,
      "outputs": [
        {
          "output_type": "stream",
          "name": "stdout",
          "text": [
            "        Item Name  P Price  R Price  PurchPrice  RetailPrice Dosage\n",
            "0    DIABOSE 50MG     44.7     52.8   1745803.2    2062156.8   50MG\n",
            "1    DIABOSE 50MG     45.4     52.8   1737412.6    2020603.2   50MG\n",
            "2  GLUCOBAY 100MG     75.7     47.7      1514.0        954.0  100MG\n",
            "3  GLUCOBAY 100MG     75.7     88.5    360710.5     421702.5  100MG\n",
            "4   GLUCOBAY 50MG     46.8     26.8       327.6        187.6   50MG\n"
          ]
        }
      ]
    },
    {
      "cell_type": "markdown",
      "source": [
        "##Creating a basic structure for the SULFON medicine##\n"
      ],
      "metadata": {
        "id": "b53IaecDDZz6"
      }
    },
    {
      "cell_type": "code",
      "source": [],
      "metadata": {
        "id": "UbIB2WLHDbII"
      },
      "execution_count": null,
      "outputs": []
    }
  ]
}
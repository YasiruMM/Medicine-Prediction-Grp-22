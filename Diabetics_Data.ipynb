{
  "nbformat": 4,
  "nbformat_minor": 0,
  "metadata": {
    "colab": {
      "provenance": [],
      "authorship_tag": "ABX9TyP+DpbxJAGsQcub36HSnqpA",
      "include_colab_link": true
    },
    "kernelspec": {
      "name": "python3",
      "display_name": "Python 3"
    },
    "language_info": {
      "name": "python"
    }
  },
  "cells": [
    {
      "cell_type": "markdown",
      "metadata": {
        "id": "view-in-github",
        "colab_type": "text"
      },
      "source": [
        "<a href=\"https://colab.research.google.com/github/YasiruMM/Medicine-Prediction-Grp-22/blob/Diabetics_-Data_-Cleaning/Diabetics_Data.ipynb\" target=\"_parent\"><img src=\"https://colab.research.google.com/assets/colab-badge.svg\" alt=\"Open In Colab\"/></a>"
      ]
    },
    {
      "cell_type": "markdown",
      "source": [
        "#**Imports**#"
      ],
      "metadata": {
        "id": "bfpmUuCWzljs"
      }
    },
    {
      "cell_type": "code",
      "execution_count": 1,
      "metadata": {
        "id": "pUoQxHarzgkh"
      },
      "outputs": [],
      "source": [
        "import pandas as pd\n",
        "import numpy as np"
      ]
    },
    {
      "cell_type": "code",
      "source": [
        "file_path = 'Structured_Diabetics.xlsx'\n",
        "df = pd.read_excel(file_path)\n",
        "\n",
        "df.head()"
      ],
      "metadata": {
        "colab": {
          "base_uri": "https://localhost:8080/",
          "height": 206
        },
        "id": "IYFy2gJLz1w_",
        "outputId": "571e581b-1c07-44cf-a333-67fa30791e42"
      },
      "execution_count": 2,
      "outputs": [
        {
          "output_type": "execute_result",
          "data": {
            "text/plain": [
              "  Disease Category Drug Category       Drug Name Dosage  Retail Price  \\\n",
              "0        Diabetics   ALPHA GLUCO    DIABOSE 50MG   50MG     2020603.2   \n",
              "1        Diabetics   ALPHA GLUCO  GLUCOBAY 100MG  100MG         954.0   \n",
              "2        Diabetics   ALPHA GLUCO  GLUCOBAY 100MG  100MG      421702.5   \n",
              "3        Diabetics   ALPHA GLUCO   GLUCOBAY 50MG   50MG         187.6   \n",
              "4        Diabetics   ALPHA GLUCO   GLUCOBAY 50MG   50MG       13511.0   \n",
              "\n",
              "   Purchase Price   Sales  Date  \n",
              "0       1737412.6  3427.0  2.24  \n",
              "1          1514.0     1.0  2.24  \n",
              "2        360710.5   753.0  2.24  \n",
              "3           327.6     0.0  2.24  \n",
              "4         21434.4    52.0  2.24  "
            ],
            "text/html": [
              "\n",
              "  <div id=\"df-e2ae8730-b3f2-493e-852d-e84ddd4d7cb5\" class=\"colab-df-container\">\n",
              "    <div>\n",
              "<style scoped>\n",
              "    .dataframe tbody tr th:only-of-type {\n",
              "        vertical-align: middle;\n",
              "    }\n",
              "\n",
              "    .dataframe tbody tr th {\n",
              "        vertical-align: top;\n",
              "    }\n",
              "\n",
              "    .dataframe thead th {\n",
              "        text-align: right;\n",
              "    }\n",
              "</style>\n",
              "<table border=\"1\" class=\"dataframe\">\n",
              "  <thead>\n",
              "    <tr style=\"text-align: right;\">\n",
              "      <th></th>\n",
              "      <th>Disease Category</th>\n",
              "      <th>Drug Category</th>\n",
              "      <th>Drug Name</th>\n",
              "      <th>Dosage</th>\n",
              "      <th>Retail Price</th>\n",
              "      <th>Purchase Price</th>\n",
              "      <th>Sales</th>\n",
              "      <th>Date</th>\n",
              "    </tr>\n",
              "  </thead>\n",
              "  <tbody>\n",
              "    <tr>\n",
              "      <th>0</th>\n",
              "      <td>Diabetics</td>\n",
              "      <td>ALPHA GLUCO</td>\n",
              "      <td>DIABOSE 50MG</td>\n",
              "      <td>50MG</td>\n",
              "      <td>2020603.2</td>\n",
              "      <td>1737412.6</td>\n",
              "      <td>3427.0</td>\n",
              "      <td>2.24</td>\n",
              "    </tr>\n",
              "    <tr>\n",
              "      <th>1</th>\n",
              "      <td>Diabetics</td>\n",
              "      <td>ALPHA GLUCO</td>\n",
              "      <td>GLUCOBAY 100MG</td>\n",
              "      <td>100MG</td>\n",
              "      <td>954.0</td>\n",
              "      <td>1514.0</td>\n",
              "      <td>1.0</td>\n",
              "      <td>2.24</td>\n",
              "    </tr>\n",
              "    <tr>\n",
              "      <th>2</th>\n",
              "      <td>Diabetics</td>\n",
              "      <td>ALPHA GLUCO</td>\n",
              "      <td>GLUCOBAY 100MG</td>\n",
              "      <td>100MG</td>\n",
              "      <td>421702.5</td>\n",
              "      <td>360710.5</td>\n",
              "      <td>753.0</td>\n",
              "      <td>2.24</td>\n",
              "    </tr>\n",
              "    <tr>\n",
              "      <th>3</th>\n",
              "      <td>Diabetics</td>\n",
              "      <td>ALPHA GLUCO</td>\n",
              "      <td>GLUCOBAY 50MG</td>\n",
              "      <td>50MG</td>\n",
              "      <td>187.6</td>\n",
              "      <td>327.6</td>\n",
              "      <td>0.0</td>\n",
              "      <td>2.24</td>\n",
              "    </tr>\n",
              "    <tr>\n",
              "      <th>4</th>\n",
              "      <td>Diabetics</td>\n",
              "      <td>ALPHA GLUCO</td>\n",
              "      <td>GLUCOBAY 50MG</td>\n",
              "      <td>50MG</td>\n",
              "      <td>13511.0</td>\n",
              "      <td>21434.4</td>\n",
              "      <td>52.0</td>\n",
              "      <td>2.24</td>\n",
              "    </tr>\n",
              "  </tbody>\n",
              "</table>\n",
              "</div>\n",
              "    <div class=\"colab-df-buttons\">\n",
              "\n",
              "  <div class=\"colab-df-container\">\n",
              "    <button class=\"colab-df-convert\" onclick=\"convertToInteractive('df-e2ae8730-b3f2-493e-852d-e84ddd4d7cb5')\"\n",
              "            title=\"Convert this dataframe to an interactive table.\"\n",
              "            style=\"display:none;\">\n",
              "\n",
              "  <svg xmlns=\"http://www.w3.org/2000/svg\" height=\"24px\" viewBox=\"0 -960 960 960\">\n",
              "    <path d=\"M120-120v-720h720v720H120Zm60-500h600v-160H180v160Zm220 220h160v-160H400v160Zm0 220h160v-160H400v160ZM180-400h160v-160H180v160Zm440 0h160v-160H620v160ZM180-180h160v-160H180v160Zm440 0h160v-160H620v160Z\"/>\n",
              "  </svg>\n",
              "    </button>\n",
              "\n",
              "  <style>\n",
              "    .colab-df-container {\n",
              "      display:flex;\n",
              "      gap: 12px;\n",
              "    }\n",
              "\n",
              "    .colab-df-convert {\n",
              "      background-color: #E8F0FE;\n",
              "      border: none;\n",
              "      border-radius: 50%;\n",
              "      cursor: pointer;\n",
              "      display: none;\n",
              "      fill: #1967D2;\n",
              "      height: 32px;\n",
              "      padding: 0 0 0 0;\n",
              "      width: 32px;\n",
              "    }\n",
              "\n",
              "    .colab-df-convert:hover {\n",
              "      background-color: #E2EBFA;\n",
              "      box-shadow: 0px 1px 2px rgba(60, 64, 67, 0.3), 0px 1px 3px 1px rgba(60, 64, 67, 0.15);\n",
              "      fill: #174EA6;\n",
              "    }\n",
              "\n",
              "    .colab-df-buttons div {\n",
              "      margin-bottom: 4px;\n",
              "    }\n",
              "\n",
              "    [theme=dark] .colab-df-convert {\n",
              "      background-color: #3B4455;\n",
              "      fill: #D2E3FC;\n",
              "    }\n",
              "\n",
              "    [theme=dark] .colab-df-convert:hover {\n",
              "      background-color: #434B5C;\n",
              "      box-shadow: 0px 1px 3px 1px rgba(0, 0, 0, 0.15);\n",
              "      filter: drop-shadow(0px 1px 2px rgba(0, 0, 0, 0.3));\n",
              "      fill: #FFFFFF;\n",
              "    }\n",
              "  </style>\n",
              "\n",
              "    <script>\n",
              "      const buttonEl =\n",
              "        document.querySelector('#df-e2ae8730-b3f2-493e-852d-e84ddd4d7cb5 button.colab-df-convert');\n",
              "      buttonEl.style.display =\n",
              "        google.colab.kernel.accessAllowed ? 'block' : 'none';\n",
              "\n",
              "      async function convertToInteractive(key) {\n",
              "        const element = document.querySelector('#df-e2ae8730-b3f2-493e-852d-e84ddd4d7cb5');\n",
              "        const dataTable =\n",
              "          await google.colab.kernel.invokeFunction('convertToInteractive',\n",
              "                                                    [key], {});\n",
              "        if (!dataTable) return;\n",
              "\n",
              "        const docLinkHtml = 'Like what you see? Visit the ' +\n",
              "          '<a target=\"_blank\" href=https://colab.research.google.com/notebooks/data_table.ipynb>data table notebook</a>'\n",
              "          + ' to learn more about interactive tables.';\n",
              "        element.innerHTML = '';\n",
              "        dataTable['output_type'] = 'display_data';\n",
              "        await google.colab.output.renderOutput(dataTable, element);\n",
              "        const docLink = document.createElement('div');\n",
              "        docLink.innerHTML = docLinkHtml;\n",
              "        element.appendChild(docLink);\n",
              "      }\n",
              "    </script>\n",
              "  </div>\n",
              "\n",
              "\n",
              "<div id=\"df-2b20fcbe-e622-4ebc-be3f-07b88761b249\">\n",
              "  <button class=\"colab-df-quickchart\" onclick=\"quickchart('df-2b20fcbe-e622-4ebc-be3f-07b88761b249')\"\n",
              "            title=\"Suggest charts\"\n",
              "            style=\"display:none;\">\n",
              "\n",
              "<svg xmlns=\"http://www.w3.org/2000/svg\" height=\"24px\"viewBox=\"0 0 24 24\"\n",
              "     width=\"24px\">\n",
              "    <g>\n",
              "        <path d=\"M19 3H5c-1.1 0-2 .9-2 2v14c0 1.1.9 2 2 2h14c1.1 0 2-.9 2-2V5c0-1.1-.9-2-2-2zM9 17H7v-7h2v7zm4 0h-2V7h2v10zm4 0h-2v-4h2v4z\"/>\n",
              "    </g>\n",
              "</svg>\n",
              "  </button>\n",
              "\n",
              "<style>\n",
              "  .colab-df-quickchart {\n",
              "      --bg-color: #E8F0FE;\n",
              "      --fill-color: #1967D2;\n",
              "      --hover-bg-color: #E2EBFA;\n",
              "      --hover-fill-color: #174EA6;\n",
              "      --disabled-fill-color: #AAA;\n",
              "      --disabled-bg-color: #DDD;\n",
              "  }\n",
              "\n",
              "  [theme=dark] .colab-df-quickchart {\n",
              "      --bg-color: #3B4455;\n",
              "      --fill-color: #D2E3FC;\n",
              "      --hover-bg-color: #434B5C;\n",
              "      --hover-fill-color: #FFFFFF;\n",
              "      --disabled-bg-color: #3B4455;\n",
              "      --disabled-fill-color: #666;\n",
              "  }\n",
              "\n",
              "  .colab-df-quickchart {\n",
              "    background-color: var(--bg-color);\n",
              "    border: none;\n",
              "    border-radius: 50%;\n",
              "    cursor: pointer;\n",
              "    display: none;\n",
              "    fill: var(--fill-color);\n",
              "    height: 32px;\n",
              "    padding: 0;\n",
              "    width: 32px;\n",
              "  }\n",
              "\n",
              "  .colab-df-quickchart:hover {\n",
              "    background-color: var(--hover-bg-color);\n",
              "    box-shadow: 0 1px 2px rgba(60, 64, 67, 0.3), 0 1px 3px 1px rgba(60, 64, 67, 0.15);\n",
              "    fill: var(--button-hover-fill-color);\n",
              "  }\n",
              "\n",
              "  .colab-df-quickchart-complete:disabled,\n",
              "  .colab-df-quickchart-complete:disabled:hover {\n",
              "    background-color: var(--disabled-bg-color);\n",
              "    fill: var(--disabled-fill-color);\n",
              "    box-shadow: none;\n",
              "  }\n",
              "\n",
              "  .colab-df-spinner {\n",
              "    border: 2px solid var(--fill-color);\n",
              "    border-color: transparent;\n",
              "    border-bottom-color: var(--fill-color);\n",
              "    animation:\n",
              "      spin 1s steps(1) infinite;\n",
              "  }\n",
              "\n",
              "  @keyframes spin {\n",
              "    0% {\n",
              "      border-color: transparent;\n",
              "      border-bottom-color: var(--fill-color);\n",
              "      border-left-color: var(--fill-color);\n",
              "    }\n",
              "    20% {\n",
              "      border-color: transparent;\n",
              "      border-left-color: var(--fill-color);\n",
              "      border-top-color: var(--fill-color);\n",
              "    }\n",
              "    30% {\n",
              "      border-color: transparent;\n",
              "      border-left-color: var(--fill-color);\n",
              "      border-top-color: var(--fill-color);\n",
              "      border-right-color: var(--fill-color);\n",
              "    }\n",
              "    40% {\n",
              "      border-color: transparent;\n",
              "      border-right-color: var(--fill-color);\n",
              "      border-top-color: var(--fill-color);\n",
              "    }\n",
              "    60% {\n",
              "      border-color: transparent;\n",
              "      border-right-color: var(--fill-color);\n",
              "    }\n",
              "    80% {\n",
              "      border-color: transparent;\n",
              "      border-right-color: var(--fill-color);\n",
              "      border-bottom-color: var(--fill-color);\n",
              "    }\n",
              "    90% {\n",
              "      border-color: transparent;\n",
              "      border-bottom-color: var(--fill-color);\n",
              "    }\n",
              "  }\n",
              "</style>\n",
              "\n",
              "  <script>\n",
              "    async function quickchart(key) {\n",
              "      const quickchartButtonEl =\n",
              "        document.querySelector('#' + key + ' button');\n",
              "      quickchartButtonEl.disabled = true;  // To prevent multiple clicks.\n",
              "      quickchartButtonEl.classList.add('colab-df-spinner');\n",
              "      try {\n",
              "        const charts = await google.colab.kernel.invokeFunction(\n",
              "            'suggestCharts', [key], {});\n",
              "      } catch (error) {\n",
              "        console.error('Error during call to suggestCharts:', error);\n",
              "      }\n",
              "      quickchartButtonEl.classList.remove('colab-df-spinner');\n",
              "      quickchartButtonEl.classList.add('colab-df-quickchart-complete');\n",
              "    }\n",
              "    (() => {\n",
              "      let quickchartButtonEl =\n",
              "        document.querySelector('#df-2b20fcbe-e622-4ebc-be3f-07b88761b249 button');\n",
              "      quickchartButtonEl.style.display =\n",
              "        google.colab.kernel.accessAllowed ? 'block' : 'none';\n",
              "    })();\n",
              "  </script>\n",
              "</div>\n",
              "\n",
              "    </div>\n",
              "  </div>\n"
            ],
            "application/vnd.google.colaboratory.intrinsic+json": {
              "type": "dataframe",
              "variable_name": "df",
              "summary": "{\n  \"name\": \"df\",\n  \"rows\": 3627,\n  \"fields\": [\n    {\n      \"column\": \"Disease Category\",\n      \"properties\": {\n        \"dtype\": \"category\",\n        \"num_unique_values\": 1,\n        \"samples\": [\n          \"Diabetics\"\n        ],\n        \"semantic_type\": \"\",\n        \"description\": \"\"\n      }\n    },\n    {\n      \"column\": \"Drug Category\",\n      \"properties\": {\n        \"dtype\": \"category\",\n        \"num_unique_values\": 3,\n        \"samples\": [\n          \"ALPHA GLUCO\"\n        ],\n        \"semantic_type\": \"\",\n        \"description\": \"\"\n      }\n    },\n    {\n      \"column\": \"Drug Name\",\n      \"properties\": {\n        \"dtype\": \"category\",\n        \"num_unique_values\": 80,\n        \"samples\": [\n          \"GLIBENCOMIDE 5MG (INGA)\"\n        ],\n        \"semantic_type\": \"\",\n        \"description\": \"\"\n      }\n    },\n    {\n      \"column\": \"Dosage\",\n      \"properties\": {\n        \"dtype\": \"category\",\n        \"num_unique_values\": 12,\n        \"samples\": [\n          \"4MG\"\n        ],\n        \"semantic_type\": \"\",\n        \"description\": \"\"\n      }\n    },\n    {\n      \"column\": \"Retail Price\",\n      \"properties\": {\n        \"dtype\": \"number\",\n        \"std\": 2810528.902368285,\n        \"min\": 13.5,\n        \"max\": 50626738.8,\n        \"num_unique_values\": 306,\n        \"samples\": [\n          13046.5\n        ],\n        \"semantic_type\": \"\",\n        \"description\": \"\"\n      }\n    },\n    {\n      \"column\": \"Purchase Price\",\n      \"properties\": {\n        \"dtype\": \"number\",\n        \"std\": 2402417.8290742887,\n        \"min\": 23.1,\n        \"max\": 43304689.8,\n        \"num_unique_values\": 398,\n        \"samples\": [\n          8644.3\n        ],\n        \"semantic_type\": \"\",\n        \"description\": \"\"\n      }\n    },\n    {\n      \"column\": \"Sales\",\n      \"properties\": {\n        \"dtype\": \"number\",\n        \"std\": 6962.962754628339,\n        \"min\": 0.0,\n        \"max\": 89012.0,\n        \"num_unique_values\": 267,\n        \"samples\": [\n          8901.0\n        ],\n        \"semantic_type\": \"\",\n        \"description\": \"\"\n      }\n    },\n    {\n      \"column\": \"Date\",\n      \"properties\": {\n        \"dtype\": \"number\",\n        \"std\": 2.58234491110966,\n        \"min\": 2.24,\n        \"max\": 10.24,\n        \"num_unique_values\": 9,\n        \"samples\": [\n          9.24\n        ],\n        \"semantic_type\": \"\",\n        \"description\": \"\"\n      }\n    }\n  ]\n}"
            }
          },
          "metadata": {},
          "execution_count": 2
        }
      ]
    },
    {
      "cell_type": "markdown",
      "source": [
        "#**Extract Unique pairs of drug names and categories**#"
      ],
      "metadata": {
        "id": "DXX6wjZV3ZkY"
      }
    },
    {
      "cell_type": "code",
      "source": [
        "pairs = df.groupby('Drug Category')['Drug Name'].unique().to_dict()\n",
        "print(pairs)"
      ],
      "metadata": {
        "colab": {
          "base_uri": "https://localhost:8080/"
        },
        "id": "ZaXIEMAN3lBT",
        "outputId": "1df345e5-ad61-4f82-898c-ae591c60dca6"
      },
      "execution_count": 3,
      "outputs": [
        {
          "output_type": "stream",
          "name": "stdout",
          "text": [
            "{'ALPHA GLUCO': array(['DIABOSE 50MG', 'GLUCOBAY 100MG', 'GLUCOBAY 50MG'], dtype=object), 'SULFON': array(['AMARYL 1MG', 'AMARYL 2MG', 'AMARYL 3MG', 'AZUKON MR 30MG',\n",
            "       'CONSUCON 80MG', 'DAONIL 5MG', 'DIAMICRON 80MG',\n",
            "       'DIAMICRON MR 30MG', 'DIAMICRON MR 60MG', 'DIANORM 80MG',\n",
            "       'DIANORM OD 30', 'DIANORM OD 60', 'DIAPRIDE 1MG', 'DIAPRIDE 2MG',\n",
            "       'DIATICA 80MG', 'DIAZIDE TAB 40MG', 'DIAZIDE TAB 80MG',\n",
            "       'EUGLIM 2MG', 'EUGLIM 4MG', 'EUGLIZIP 5MG', 'GD-CARE 5MG',\n",
            "       'GETRIL 1MG', 'GETRIL 2MG', 'GETRIL 3MG', 'GETRIL 4MG',\n",
            "       'GLEMAZ 2MG', 'GLEMAZ 4MG', 'GLIBENCOMIDE 5MG (INGA)',\n",
            "       'GLICAD 40MG', 'GLICLAZIDE 40MG', 'GLICLAZIDE 40MG (IPCA)',\n",
            "       'GLICLAZIDE 80MG', 'GLICLAZIDE 80MG (SPMC)',\n",
            "       'GLICLAZIDE 80MG SPMC', 'GLICLAZIDE MR 30MG',\n",
            "       'GLICLAZIDE MR 60MG (IPCA)', 'GLIDABET 80MG', 'GLIMEPRIDE 2MG',\n",
            "       'GLIMEPRIDE 2MG (USV)', 'GLIMIPRIDE 4MG', 'GLIPIZ  5MG',\n",
            "       'GLIPIZIDE 5MG (USV)', 'GLITROL CR 30MG', 'GLITROL CR 60MG',\n",
            "       'GLIVIC 40MG', 'GLIVIC 80MG', 'GLIVIC MR 30', 'GLIVIC MR 60',\n",
            "       'GLIX 40', 'GLIZIDE TAB 80MG', 'GLIZYM MR 30MG', 'GLUCOZIDE 80MG',\n",
            "       'GLYCHECK TAB 40MG', 'GLYCHECK TAB 80MG', 'GLYCINORM 40MG',\n",
            "       'GLYCINORM 80MG', 'GLYCINORM MR 30MG', 'GLYCLAPAN 80MG',\n",
            "       'GLYNASE 5MG', 'GLYZ MR', 'GP-1MG', 'GP-2MG', 'MEDOCLAZIDE 80MG',\n",
            "       'METRIX 2MG', 'NIDONIL 80MG', 'ORINASE 4MG', 'RECLIDE 80MG',\n",
            "       'RECLIDE MR 30MG', 'RECLIDE MR 60MG', 'TOLBUTAMIDE TABS (INTPH)',\n",
            "       'VEXGID 80MG', 'VEXGID MR 30'], dtype=object), 'THIAZOL': array(['PIOGLITAZONE 15MG (SPC)', 'PIOGLITAZONE 15MG (USV)',\n",
            "       'PIOGLITAZONE 30MG  (SPC)', 'PIOZ 15MG', 'PIOZ 30MG'], dtype=object)}\n"
          ]
        }
      ]
    },
    {
      "cell_type": "markdown",
      "source": [
        "##**Identifying the most frequent drug category and drug name**##"
      ],
      "metadata": {
        "id": "w3aLPblhZgYT"
      }
    },
    {
      "cell_type": "code",
      "source": [
        "most_frequent_category = df['Drug Category'].mode()[0]\n",
        "most_frequent_drug_name = df['Drug Name'].mode()[0]"
      ],
      "metadata": {
        "id": "p0lyokKeZrJv"
      },
      "execution_count": 4,
      "outputs": []
    },
    {
      "cell_type": "markdown",
      "source": [
        "##**Filling the missing/invalid drug name or drug category**##"
      ],
      "metadata": {
        "id": "Rbi8x9tfZvlD"
      }
    },
    {
      "cell_type": "code",
      "source": [
        "def missing_values(row,category_to_names, most_frequent_category, most_frequent_drug_name):\n",
        "\n",
        "  category = row['Drug Category']\n",
        "  drug_name = row['Drug Name']\n",
        "\n",
        "  # Handle missing 'Drug Category'\n",
        "  if pd.isnull(category) or category not in category_to_names:\n",
        "        row['Drug Category'] = most_frequent_category  # Fill with most frequent category\n",
        "\n",
        "    # Handle missing or invalid 'Drug Name'\n",
        "  if pd.isnull(drug_name) or isinstance(drug_name, (int, float)):\n",
        "        row['Drug Name'] = most_frequent_drug_name  # Fill with most frequent drug name\n",
        "  return row"
      ],
      "metadata": {
        "id": "IP2yGEFEZ9b3"
      },
      "execution_count": 5,
      "outputs": []
    },
    {
      "cell_type": "markdown",
      "source": [
        "##**Finding the most frequent dosage for each drug name**##"
      ],
      "metadata": {
        "id": "QdVdGPxUh9Y_"
      }
    },
    {
      "cell_type": "code",
      "source": [
        "most_frequent_dosages = df.groupby('Drug Category')['Dosage'].agg(lambda x: x.mode()[0]).to_dict()\n",
        "print(most_frequent_dosages)"
      ],
      "metadata": {
        "colab": {
          "base_uri": "https://localhost:8080/"
        },
        "id": "tR702sl8iS6P",
        "outputId": "cc87cf08-4527-45f4-942e-c4d674583860"
      },
      "execution_count": 6,
      "outputs": [
        {
          "output_type": "stream",
          "name": "stdout",
          "text": [
            "{'ALPHA GLUCO': '50MG', 'SULFON': '80MG', 'THIAZOL': '15MG'}\n"
          ]
        }
      ]
    },
    {
      "cell_type": "markdown",
      "source": [
        "##**Function to fill missing & irrelevant 'Dosages**##"
      ],
      "metadata": {
        "id": "KDBJpaABivat"
      }
    },
    {
      "cell_type": "code",
      "source": [
        "def fill_invalid_dosage(row, dosage_map):\n",
        "    dosage = row['Dosage']\n",
        "    category=row['Drug Category']\n",
        "\n",
        "    # Check if dosage is missing or invalid (you can add specific criteria for invalid values)\n",
        "    if pd.isnull(dosage) or dosage== '':\n",
        "        # If invalid or missing, use the most frequent dosage for the drug\n",
        "        row['Dosage'] = dosage_map.get(category,None)  #use most fequent dosage\n",
        "\n",
        "    return row"
      ],
      "metadata": {
        "id": "BWgh-nH-i3uz"
      },
      "execution_count": 7,
      "outputs": []
    },
    {
      "cell_type": "markdown",
      "source": [
        "##**Handleing the numerical fields**##"
      ],
      "metadata": {
        "id": "526ejWvSjN_w"
      }
    },
    {
      "cell_type": "code",
      "source": [
        "# retrieve medians of specific numerics under each drug category.\n",
        "median_values = df.groupby('Drug Category').agg({\n",
        "    'Retail Price': 'median',\n",
        "    'Purchase Price': 'median',\n",
        "    'Sales': 'median'\n",
        "}).to_dict()\n",
        "print(median_values)"
      ],
      "metadata": {
        "colab": {
          "base_uri": "https://localhost:8080/"
        },
        "id": "m5yn1iN1jWkv",
        "outputId": "5e957df1-7602-436b-fe07-8ba30ab7fdad"
      },
      "execution_count": 8,
      "outputs": [
        {
          "output_type": "stream",
          "name": "stdout",
          "text": [
            "{'Retail Price': {'ALPHA GLUCO': 13082.5, 'SULFON': 9580.4, 'THIAZOL': 2094.2}, 'Purchase Price': {'ALPHA GLUCO': 18509.4, 'SULFON': 8204.4, 'THIAZOL': 2268.0}, 'Sales': {'ALPHA GLUCO': 41.5, 'SULFON': 67.0, 'THIAZOL': 39.5}}\n"
          ]
        }
      ]
    },
    {
      "cell_type": "code",
      "source": [
        "# Step 2: Function to handle missing or irrelevant values\n",
        "def fill_numeric_values(row, median_dict):\n",
        "    category = row['Drug Category']\n",
        "\n",
        "    # Handle Retail Price\n",
        "    if pd.isnull(row['Retail Price']) or row['Retail Price'] <= 0 or not isinstance(row['Retail Price'], (int, float)):  # Null or invalid values handling\n",
        "        row['Retail Price'] = median_dict['Retail Price'].get(category, df['Retail Price'].median())\n",
        "\n",
        "    # Handle Purchase Price\n",
        "    if pd.isnull(row['Purchase Price']) or row['Purchase Price'] <= 0 or not isinstance(row['Purchase Price'], (int, float)):  # Null or invalid values handling\n",
        "        row['Purchase Price'] = median_dict['Purchase Price'].get(category, df['Purchase Price'].median())\n",
        "\n",
        "    # Handle Sales\n",
        "    if pd.isnull(row['Sales']) or row['Sales'] <= 0 or not isinstance(row['Sales'], (int, float)):  # Null or invalid values handling\n",
        "        row['Sales'] = median_dict['Sales'].get(category, df['Sales'].median())\n",
        "\n",
        "    return row"
      ],
      "metadata": {
        "id": "2fQueZjVjrV7"
      },
      "execution_count": 9,
      "outputs": []
    }
  ]
}
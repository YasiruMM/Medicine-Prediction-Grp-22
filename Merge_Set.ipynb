{
  "nbformat": 4,
  "nbformat_minor": 0,
  "metadata": {
    "colab": {
      "provenance": [],
      "authorship_tag": "ABX9TyPYvxSmNh3AxJ2NrDTnmKpT",
      "include_colab_link": true
    },
    "kernelspec": {
      "name": "python3",
      "display_name": "Python 3"
    },
    "language_info": {
      "name": "python"
    }
  },
  "cells": [
    {
      "cell_type": "markdown",
      "metadata": {
        "id": "view-in-github",
        "colab_type": "text"
      },
      "source": [
        "<a href=\"https://colab.research.google.com/github/YasiruMM/Medicine-Prediction-Grp-22/blob/Overstock-prediction/Merge_Set.ipynb\" target=\"_parent\"><img src=\"https://colab.research.google.com/assets/colab-badge.svg\" alt=\"Open In Colab\"/></a>"
      ]
    },
    {
      "cell_type": "markdown",
      "source": [
        "##**Imports**##"
      ],
      "metadata": {
        "id": "oZOkvrUD-sQA"
      }
    },
    {
      "cell_type": "code",
      "execution_count": 1,
      "metadata": {
        "id": "ppSF1GNQ91B0"
      },
      "outputs": [],
      "source": [
        "import pandas as pd\n",
        "import numpy as np"
      ]
    },
    {
      "cell_type": "markdown",
      "source": [
        "##**Initializing the dataset**##"
      ],
      "metadata": {
        "id": "L01uZIt1BTa4"
      }
    },
    {
      "cell_type": "code",
      "source": [
        "dataset_file = 'NoiseHandled1_MediTrack_Dataset.csv'\n",
        "predictions_file = 'Medicine predictions-XGBoost.csv'\n",
        "\n",
        "df_dataset = pd.read_csv(dataset_file)\n",
        "df_predictions = pd.read_csv(predictions_file)"
      ],
      "metadata": {
        "id": "7QNoo6pi-yUq"
      },
      "execution_count": 2,
      "outputs": []
    },
    {
      "cell_type": "code",
      "source": [
        "#Transform the prediction columns into log scale\n",
        "prediction_cols = [\"Prediction 1\", \"Prediction 2\", \"Prediction 3\", \"Prediction 4\", \"Prediction 5\", \"Prediction 6\"]\n",
        "df_predictions[prediction_cols] = np.log1p(df_predictions[prediction_cols])\n",
        "\n"
      ],
      "metadata": {
        "id": "vSyxkxlcBXrr"
      },
      "execution_count": null,
      "outputs": []
    }
  ]
}
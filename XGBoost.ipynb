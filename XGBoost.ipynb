{
 "cells": [
  {
   "cell_type": "code",
   "id": "initial_id",
   "metadata": {
    "collapsed": true,
    "ExecuteTime": {
     "end_time": "2025-02-06T07:09:45.726287Z",
     "start_time": "2025-02-06T07:09:45.687987Z"
    }
   },
   "source": [
    "# Import necessary libraries\n",
    "import pandas as pd\n",
    "import xgboost as xgb\n",
    "from sklearn.model_selection import train_test_split\n",
    "\n",
    "\n"
   ],
   "outputs": [],
   "execution_count": 4
  },
  {
   "metadata": {
    "ExecuteTime": {
     "end_time": "2025-02-06T07:10:02.882986Z",
     "start_time": "2025-02-06T07:10:01.307028Z"
    }
   },
   "cell_type": "code",
   "source": [
    "# Load the dataset\n",
    "file_path = 'C:/Users/ASUS/OneDrive/Desktop/Drug_Data_Featured.xlsx'\n",
    "df = pd.read_excel(file_path)"
   ],
   "id": "cbe14efc30d1b9b9",
   "outputs": [],
   "execution_count": 5
  },
  {
   "metadata": {
    "ExecuteTime": {
     "end_time": "2025-02-06T07:10:13.271489Z",
     "start_time": "2025-02-06T07:10:13.151436Z"
    }
   },
   "cell_type": "code",
   "source": [
    "# Define feature (X) and target (y) variables\n",
    "X = df.drop(columns=['Sales'])  # Exclude target variable\n",
    "y = df['Sales']\n"
   ],
   "id": "4123c8d57659e8ff",
   "outputs": [],
   "execution_count": 6
  },
  {
   "metadata": {
    "ExecuteTime": {
     "end_time": "2025-02-06T07:11:14.805471Z",
     "start_time": "2025-02-06T07:11:14.773386Z"
    }
   },
   "cell_type": "code",
   "source": [
    "# Save 'Drug Name'& Disease Category before encoding\n",
    "drug_names = X[['Drug Name']]\n",
    "disease_categories = X[['Disease Category']]"
   ],
   "id": "d06afbaaf45355bf",
   "outputs": [],
   "execution_count": 7
  },
  {
   "metadata": {
    "ExecuteTime": {
     "end_time": "2025-02-06T07:11:20.978687Z",
     "start_time": "2025-02-06T07:11:20.790152Z"
    }
   },
   "cell_type": "code",
   "source": [
    "# Convert 'Date' to numerical format\n",
    "X['Date'] = pd.to_datetime(X['Date']).dt.month.astype(float)  # Convert date to month number\n"
   ],
   "id": "75ffbe4523a2877f",
   "outputs": [],
   "execution_count": 8
  },
  {
   "metadata": {
    "ExecuteTime": {
     "end_time": "2025-02-06T07:11:24.763849Z",
     "start_time": "2025-02-06T07:11:24.690287Z"
    }
   },
   "cell_type": "code",
   "source": [
    "# One-Hot Encoding for categorical variables\n",
    "X = pd.get_dummies(X, columns=['Disease Category', 'Drug Category', 'Drug Name', 'Dosage'])\n"
   ],
   "id": "462a570318f42046",
   "outputs": [],
   "execution_count": 9
  },
  {
   "metadata": {
    "ExecuteTime": {
     "end_time": "2025-02-06T07:11:27.433929Z",
     "start_time": "2025-02-06T07:11:27.319744Z"
    }
   },
   "cell_type": "code",
   "source": [
    "\n",
    "# Train-test split\n",
    "X_train, X_test, y_train, y_test = train_test_split(X, y, test_size=0.2, random_state=42)\n",
    "\n"
   ],
   "id": "80b1a6c00aa2c058",
   "outputs": [],
   "execution_count": 10
  },
  {
   "metadata": {
    "ExecuteTime": {
     "end_time": "2025-02-06T07:11:30.829836Z",
     "start_time": "2025-02-06T07:11:29.960483Z"
    }
   },
   "cell_type": "code",
   "source": [
    "# Convert to DMatrix format\n",
    "dtrain = xgb.DMatrix(X_train, label=y_train)\n",
    "dtest = xgb.DMatrix(X_test, label=y_test)"
   ],
   "id": "6ff3ce9334c5c9fd",
   "outputs": [],
   "execution_count": 11
  },
  {
   "metadata": {
    "ExecuteTime": {
     "end_time": "2025-02-06T07:11:32.947191Z",
     "start_time": "2025-02-06T07:11:32.927105Z"
    }
   },
   "cell_type": "code",
   "source": [
    "# Define XGBoost parameters\n",
    "params = {\n",
    "    'objective': 'reg:squarederror',  # Regression task\n",
    "    'eval_metric': 'rmse',            # Root Mean Squared Error\n",
    "    'max_depth': 6,\n",
    "    'learning_rate': 0.1,\n",
    "    'colsample_bytree': 0.8,\n",
    "    'subsample': 0.8\n",
    "}"
   ],
   "id": "7222f0a0fc4e906f",
   "outputs": [],
   "execution_count": 12
  },
  {
   "metadata": {
    "ExecuteTime": {
     "end_time": "2025-02-06T07:11:36.898623Z",
     "start_time": "2025-02-06T07:11:35.534349Z"
    }
   },
   "cell_type": "code",
   "source": [
    "# Train the model\n",
    "num_boost_round = 100\n",
    "model = xgb.train(params, dtrain, num_boost_round=num_boost_round)"
   ],
   "id": "1446fa14d4c405e2",
   "outputs": [],
   "execution_count": 13
  },
  {
   "metadata": {
    "ExecuteTime": {
     "end_time": "2025-02-06T07:11:43.217703Z",
     "start_time": "2025-02-06T07:11:38.951508Z"
    }
   },
   "cell_type": "code",
   "source": [
    "from sklearn.metrics import mean_squared_error, mean_absolute_error, r2_score\n",
    "\n",
    "y_pred = model.predict(dtest)\n",
    "print(\"RMSE:\", mean_squared_error(y_test, y_pred, squared=False))\n",
    "print(\"MAE:\", mean_absolute_error(y_test, y_pred))\n",
    "print(\"R²:\", r2_score(y_test, y_pred))"
   ],
   "id": "64e8d330a507df2b",
   "outputs": [
    {
     "ename": "TypeError",
     "evalue": "got an unexpected keyword argument 'squared'",
     "output_type": "error",
     "traceback": [
      "\u001B[1;31m---------------------------------------------------------------------------\u001B[0m",
      "\u001B[1;31mTypeError\u001B[0m                                 Traceback (most recent call last)",
      "Cell \u001B[1;32mIn[14], line 4\u001B[0m\n\u001B[0;32m      1\u001B[0m \u001B[38;5;28;01mfrom\u001B[39;00m\u001B[38;5;250m \u001B[39m\u001B[38;5;21;01msklearn\u001B[39;00m\u001B[38;5;21;01m.\u001B[39;00m\u001B[38;5;21;01mmetrics\u001B[39;00m\u001B[38;5;250m \u001B[39m\u001B[38;5;28;01mimport\u001B[39;00m mean_squared_error, mean_absolute_error, r2_score\n\u001B[0;32m      3\u001B[0m y_pred \u001B[38;5;241m=\u001B[39m model\u001B[38;5;241m.\u001B[39mpredict(dtest)\n\u001B[1;32m----> 4\u001B[0m \u001B[38;5;28mprint\u001B[39m(\u001B[38;5;124m\"\u001B[39m\u001B[38;5;124mRMSE:\u001B[39m\u001B[38;5;124m\"\u001B[39m, \u001B[43mmean_squared_error\u001B[49m\u001B[43m(\u001B[49m\u001B[43my_test\u001B[49m\u001B[43m,\u001B[49m\u001B[43m \u001B[49m\u001B[43my_pred\u001B[49m\u001B[43m,\u001B[49m\u001B[43m \u001B[49m\u001B[43msquared\u001B[49m\u001B[38;5;241;43m=\u001B[39;49m\u001B[38;5;28;43;01mFalse\u001B[39;49;00m\u001B[43m)\u001B[49m)\n\u001B[0;32m      5\u001B[0m \u001B[38;5;28mprint\u001B[39m(\u001B[38;5;124m\"\u001B[39m\u001B[38;5;124mMAE:\u001B[39m\u001B[38;5;124m\"\u001B[39m, mean_absolute_error(y_test, y_pred))\n\u001B[0;32m      6\u001B[0m \u001B[38;5;28mprint\u001B[39m(\u001B[38;5;124m\"\u001B[39m\u001B[38;5;124mR²:\u001B[39m\u001B[38;5;124m\"\u001B[39m, r2_score(y_test, y_pred))\n",
      "File \u001B[1;32m~\\AppData\\Local\\Programs\\Python\\Python313\\Lib\\site-packages\\sklearn\\utils\\_param_validation.py:194\u001B[0m, in \u001B[0;36mvalidate_params.<locals>.decorator.<locals>.wrapper\u001B[1;34m(*args, **kwargs)\u001B[0m\n\u001B[0;32m    191\u001B[0m func_sig \u001B[38;5;241m=\u001B[39m signature(func)\n\u001B[0;32m    193\u001B[0m \u001B[38;5;66;03m# Map *args/**kwargs to the function signature\u001B[39;00m\n\u001B[1;32m--> 194\u001B[0m params \u001B[38;5;241m=\u001B[39m \u001B[43mfunc_sig\u001B[49m\u001B[38;5;241;43m.\u001B[39;49m\u001B[43mbind\u001B[49m\u001B[43m(\u001B[49m\u001B[38;5;241;43m*\u001B[39;49m\u001B[43margs\u001B[49m\u001B[43m,\u001B[49m\u001B[43m \u001B[49m\u001B[38;5;241;43m*\u001B[39;49m\u001B[38;5;241;43m*\u001B[39;49m\u001B[43mkwargs\u001B[49m\u001B[43m)\u001B[49m\n\u001B[0;32m    195\u001B[0m params\u001B[38;5;241m.\u001B[39mapply_defaults()\n\u001B[0;32m    197\u001B[0m \u001B[38;5;66;03m# ignore self/cls and positional/keyword markers\u001B[39;00m\n",
      "File \u001B[1;32m~\\AppData\\Local\\Programs\\Python\\Python313\\Lib\\inspect.py:3260\u001B[0m, in \u001B[0;36mSignature.bind\u001B[1;34m(self, *args, **kwargs)\u001B[0m\n\u001B[0;32m   3255\u001B[0m \u001B[38;5;28;01mdef\u001B[39;00m\u001B[38;5;250m \u001B[39m\u001B[38;5;21mbind\u001B[39m(\u001B[38;5;28mself\u001B[39m, \u001B[38;5;241m/\u001B[39m, \u001B[38;5;241m*\u001B[39margs, \u001B[38;5;241m*\u001B[39m\u001B[38;5;241m*\u001B[39mkwargs):\n\u001B[0;32m   3256\u001B[0m \u001B[38;5;250m    \u001B[39m\u001B[38;5;124;03m\"\"\"Get a BoundArguments object, that maps the passed `args`\u001B[39;00m\n\u001B[0;32m   3257\u001B[0m \u001B[38;5;124;03m    and `kwargs` to the function's signature.  Raises `TypeError`\u001B[39;00m\n\u001B[0;32m   3258\u001B[0m \u001B[38;5;124;03m    if the passed arguments can not be bound.\u001B[39;00m\n\u001B[0;32m   3259\u001B[0m \u001B[38;5;124;03m    \"\"\"\u001B[39;00m\n\u001B[1;32m-> 3260\u001B[0m     \u001B[38;5;28;01mreturn\u001B[39;00m \u001B[38;5;28;43mself\u001B[39;49m\u001B[38;5;241;43m.\u001B[39;49m\u001B[43m_bind\u001B[49m\u001B[43m(\u001B[49m\u001B[43margs\u001B[49m\u001B[43m,\u001B[49m\u001B[43m \u001B[49m\u001B[43mkwargs\u001B[49m\u001B[43m)\u001B[49m\n",
      "File \u001B[1;32m~\\AppData\\Local\\Programs\\Python\\Python313\\Lib\\inspect.py:3249\u001B[0m, in \u001B[0;36mSignature._bind\u001B[1;34m(self, args, kwargs, partial)\u001B[0m\n\u001B[0;32m   3239\u001B[0m         \u001B[38;5;28;01mraise\u001B[39;00m \u001B[38;5;167;01mTypeError\u001B[39;00m(\n\u001B[0;32m   3240\u001B[0m             \u001B[38;5;124m'\u001B[39m\u001B[38;5;124mgot some positional-only arguments passed as \u001B[39m\u001B[38;5;124m'\u001B[39m\n\u001B[0;32m   3241\u001B[0m             \u001B[38;5;124m'\u001B[39m\u001B[38;5;124mkeyword arguments: \u001B[39m\u001B[38;5;132;01m{arg!r}\u001B[39;00m\u001B[38;5;124m'\u001B[39m\u001B[38;5;241m.\u001B[39mformat(\n\u001B[1;32m   (...)\u001B[0m\n\u001B[0;32m   3246\u001B[0m             ),\n\u001B[0;32m   3247\u001B[0m         )\n\u001B[0;32m   3248\u001B[0m     \u001B[38;5;28;01melse\u001B[39;00m:\n\u001B[1;32m-> 3249\u001B[0m         \u001B[38;5;28;01mraise\u001B[39;00m \u001B[38;5;167;01mTypeError\u001B[39;00m(\n\u001B[0;32m   3250\u001B[0m             \u001B[38;5;124m'\u001B[39m\u001B[38;5;124mgot an unexpected keyword argument \u001B[39m\u001B[38;5;132;01m{arg!r}\u001B[39;00m\u001B[38;5;124m'\u001B[39m\u001B[38;5;241m.\u001B[39mformat(\n\u001B[0;32m   3251\u001B[0m                 arg\u001B[38;5;241m=\u001B[39m\u001B[38;5;28mnext\u001B[39m(\u001B[38;5;28miter\u001B[39m(kwargs))))\n\u001B[0;32m   3253\u001B[0m \u001B[38;5;28;01mreturn\u001B[39;00m \u001B[38;5;28mself\u001B[39m\u001B[38;5;241m.\u001B[39m_bound_arguments_cls(\u001B[38;5;28mself\u001B[39m, arguments)\n",
      "\u001B[1;31mTypeError\u001B[0m: got an unexpected keyword argument 'squared'"
     ]
    }
   ],
   "execution_count": 14
  },
  {
   "metadata": {
    "ExecuteTime": {
     "end_time": "2025-02-06T07:11:48.258439Z",
     "start_time": "2025-02-06T07:11:48.177603Z"
    }
   },
   "cell_type": "code",
   "source": [
    "# Save a copy of test data for future predictions\n",
    "X_test_future = X_test.copy()"
   ],
   "id": "313c14934236b89d",
   "outputs": [],
   "execution_count": 15
  },
  {
   "metadata": {
    "ExecuteTime": {
     "end_time": "2025-02-06T07:11:53.534296Z",
     "start_time": "2025-02-06T07:11:53.502930Z"
    }
   },
   "cell_type": "code",
   "source": [
    "# Initialize DataFrame to store results\n",
    "future_results = pd.DataFrame()\n"
   ],
   "id": "5f14c470b13f8be5",
   "outputs": [],
   "execution_count": 16
  },
  {
   "metadata": {
    "ExecuteTime": {
     "end_time": "2025-02-06T07:13:52.413446Z",
     "start_time": "2025-02-06T07:13:47.981647Z"
    }
   },
   "cell_type": "code",
   "source": [
    "# # Loop for multi-month prediction (6 months ahead)\n",
    "# for month in range(1, 7):\n",
    "#     X_test_future['Date'] += 1  # Move forward one month\n",
    "#     dtest_future = xgb.DMatrix(X_test_future)\n",
    "#     predictions_future = model.predict(dtest_future)\n",
    "#\n",
    "#     # Store results\n",
    "#     future_month_results = pd.DataFrame({\n",
    "#         'Disease Category': disease_categories.iloc[X_test_future.index]['Disease Category'].values,\n",
    "#         'Drug Name': drug_names.iloc[X_test_future.index]['Drug Name'].values,\n",
    "#         'Month': [month] * len(predictions_future),\n",
    "#         'Predicted Sales': predictions_future\n",
    "#     })\n",
    "#\n",
    "#     future_results = pd.concat([future_results, future_month_results], ignore_index=True)\n",
    "#\n",
    "# Ensure 'Date' column is used correctly\n",
    "X_test_future = X_test.copy()\n",
    "original_indices = X_test_future.index  # Retain original indices for proper merging\n",
    "\n",
    "# Loop for multi-month prediction (6 months ahead)\n",
    "for month in range(1, 7):\n",
    "    X_test_future['Date'] += 1  # Increment 'Date' to simulate next month\n",
    "    dtest_future = xgb.DMatrix(X_test_future)\n",
    "    predictions_future = model.predict(dtest_future)\n",
    "\n",
    "    # Store results with original indices\n",
    "    future_month_results = pd.DataFrame({\n",
    "        'Index': original_indices,  # Retain original indices\n",
    "        'Disease Category': disease_categories.iloc[X_test_future.index]['Disease Category'].values,\n",
    "        'Drug Name': drug_names.iloc[X_test_future.index]['Drug Name'].values,\n",
    "        'Month': [month] * len(predictions_future),\n",
    "        'Predicted Sales': predictions_future\n",
    "    })\n",
    "\n",
    "    future_results = pd.concat([future_results, future_month_results], ignore_index=True)\n",
    "\n"
   ],
   "id": "795df65541efbef9",
   "outputs": [],
   "execution_count": 18
  },
  {
   "metadata": {
    "ExecuteTime": {
     "end_time": "2025-02-06T07:14:16.227757Z",
     "start_time": "2025-02-06T07:14:10.278949Z"
    }
   },
   "cell_type": "code",
   "source": [
    "# # Pivot results for better readability\n",
    "# pivot_results = future_results.pivot_table(\n",
    "#     index=['Disease Category', 'Drug Name'],\n",
    "#     columns='Month',\n",
    "#     values='Predicted Sales'\n",
    "# ).reset_index()\n",
    "#\n",
    "# #Display predictions\n",
    "# print(pivot_results)\n",
    "#\n",
    "#\n",
    "# # Save to Excel\n",
    "# pivot_results.to_excel(\"predicted_sales.xlsx\", index=False)\n",
    "#\n",
    "# print(\"Excel file 'predicted_sales.xlsx' has been saved successfully!\")\n",
    "#\n",
    "# # Merge with original input file to retain all columns\n",
    "# merged_results = df.merge(pivot_results, on=['Disease Category', 'Drug Name'], how='left')\n",
    "#\n",
    "# # Save to Excel\n",
    "# merged_results.to_excel(\"C:/Users/ASUS/OneDrive/Desktop/predicted_sales_full.xlsx\", index=False)\n",
    "#\n",
    "# print(\"Excel file 'predicted_sales_full.xlsx' has been saved with all input columns!\")\n",
    "\n",
    "# Restore original indices for merging\n",
    "future_results.set_index('Index', inplace=True)\n",
    "\n",
    "# Pivot results for better readability\n",
    "pivot_results = future_results.pivot_table(\n",
    "    index=['Disease Category', 'Drug Name'],\n",
    "    columns='Month',\n",
    "    values='Predicted Sales'\n",
    ").reset_index()\n",
    "\n",
    "# Display predictions\n",
    "print(pivot_results)\n",
    "\n",
    "# Save to Excel\n",
    "pivot_results.to_excel(\"xgb_predicted_sales.xlsx\", index=False)\n",
    "print(\"Excel file 'predicted_sales.xlsx' has been saved successfully!\")\n",
    "\n",
    "# Merge with original input file to retain all columns\n",
    "merged_results = df.merge(pivot_results, on=['Disease Category', 'Drug Name'], how='left')\n",
    "\n",
    "# Save to Excel\n",
    "merged_results.to_excel(\"C:/Users/ASUS/OneDrive/Desktop/xgb_predicted_sales_full.xlsx\", index=False)\n",
    "print(\"Excel file 'predicted_sales_full.xlsx' has been saved with all input columns!\")\n"
   ],
   "id": "edfdf5c15823a64c",
   "outputs": [
    {
     "name": "stdout",
     "output_type": "stream",
     "text": [
      "Month Disease Category                      Drug Name             1  \\\n",
      "0       Cardiovascular       AMILODIPINE (CADLA) 10MG    153.194565   \n",
      "1       Cardiovascular                    AMLODAC 5MG    377.132355   \n",
      "2       Cardiovascular                    AMLONG 10MG   1381.081543   \n",
      "3       Cardiovascular          AMLONG 2. 2. 2. 2.5MG   7265.875488   \n",
      "4       Cardiovascular                  AMLOPRESS 5MG  12477.567383   \n",
      "..                 ...                            ...           ...   \n",
      "242           Diabetes                RECLIDE MR 30MG   1759.579102   \n",
      "243           Diabetes                RECLIDE MR 60MG   1074.301025   \n",
      "244           Diabetes  TOLBUTAMIDE TABS (INTPH) 80MG   1880.179565   \n",
      "245           Diabetes                    VEXGID 80MG    123.993767   \n",
      "246           Diabetes              VEXGID MR 30 80MG    949.623779   \n",
      "\n",
      "Month             2             3             4             5             6  \n",
      "0        153.194565    153.194565    153.194565    153.194565    153.194565  \n",
      "1        377.132355    377.132355    377.132355    377.132355    377.132355  \n",
      "2       1381.081543   1381.081543   1381.081543   1381.081543   1381.081543  \n",
      "3       7265.875488   7265.875488   7265.875488   7265.875488   7265.875488  \n",
      "4      12477.567383  12477.567383  12477.567383  12477.567383  12477.567383  \n",
      "..              ...           ...           ...           ...           ...  \n",
      "242     1759.579102   1759.579102   1759.579102   1759.579102   1759.579102  \n",
      "243     1074.301025   1074.301025   1074.301025   1074.301025   1074.301025  \n",
      "244     1880.179565   1880.179565   1880.179565   1880.179565   1880.179565  \n",
      "245      123.993767    123.993767    123.993767    123.993767    123.993767  \n",
      "246      949.623779    949.623779    949.623779    949.623779    949.623779  \n",
      "\n",
      "[247 rows x 8 columns]\n",
      "Excel file 'predicted_sales.xlsx' has been saved successfully!\n",
      "Excel file 'predicted_sales_full.xlsx' has been saved with all input columns!\n"
     ]
    }
   ],
   "execution_count": 19
  },
  {
   "metadata": {},
   "cell_type": "code",
   "outputs": [],
   "execution_count": null,
   "source": "",
   "id": "57ed58e175381220"
  }
 ],
 "metadata": {
  "kernelspec": {
   "display_name": "Python 3",
   "language": "python",
   "name": "python3"
  },
  "language_info": {
   "codemirror_mode": {
    "name": "ipython",
    "version": 2
   },
   "file_extension": ".py",
   "mimetype": "text/x-python",
   "name": "python",
   "nbconvert_exporter": "python",
   "pygments_lexer": "ipython2",
   "version": "2.7.6"
  }
 },
 "nbformat": 4,
 "nbformat_minor": 5
}

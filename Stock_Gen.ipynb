{
  "nbformat": 4,
  "nbformat_minor": 0,
  "metadata": {
    "colab": {
      "provenance": [],
      "mount_file_id": "1-3SQ4skixCkoqezYagRKMZ56HPMaCAU8",
      "authorship_tag": "ABX9TyN1FdqXa4bCHh4yvDvPu7r1",
      "include_colab_link": true
    },
    "kernelspec": {
      "name": "python3",
      "display_name": "Python 3"
    },
    "language_info": {
      "name": "python"
    }
  },
  "cells": [
    {
      "cell_type": "markdown",
      "metadata": {
        "id": "view-in-github",
        "colab_type": "text"
      },
      "source": [
        "<a href=\"https://colab.research.google.com/github/YasiruMM/Medicine-Prediction-Grp-22/blob/Cardiovascular-Data-Cleaning/Stock_Gen.ipynb\" target=\"_parent\"><img src=\"https://colab.research.google.com/assets/colab-badge.svg\" alt=\"Open In Colab\"/></a>"
      ]
    },
    {
      "cell_type": "code",
      "source": [
        "import pandas as pd"
      ],
      "metadata": {
        "id": "or-N5uLbrDtK"
      },
      "execution_count": null,
      "outputs": []
    },
    {
      "cell_type": "code",
      "source": [
        "file_path= '/content/drive/My Drive/DSGP/updated_outlierProcessed.csv'\n",
        "#Load the Excel file into a DataFrame\n",
        "df = pd.read_csv(file_path)\n"
      ],
      "metadata": {
        "id": "J-zvkoIVqwAf"
      },
      "execution_count": null,
      "outputs": []
    },
    {
      "cell_type": "code",
      "source": [
        "# Calculate the mean sales and coefficient of variance (CV) for each drug\n",
        "df['Mean Sales'] = df.groupby('Drug Name')['Sales'].transform('mean')\n",
        "df['CV'] = df.groupby('Drug Name')['Sales'].transform(lambda x: x.std() / x.mean() * 100)"
      ],
      "metadata": {
        "id": "VgmN_iEnrzmE"
      },
      "execution_count": null,
      "outputs": []
    },
    {
      "cell_type": "markdown",
      "source": [
        "# Assign Buffer Percentage based on CV"
      ],
      "metadata": {
        "id": "p7TU8ruIso7v"
      }
    },
    {
      "cell_type": "code",
      "source": [
        "# buffer percentage based on CV\n",
        "def buffer_percentage(cv):\n",
        "    if cv <= 20:\n",
        "        return 20\n",
        "    elif 20 < cv <= 50:\n",
        "        return 30\n",
        "    else:\n",
        "        return 50"
      ],
      "metadata": {
        "id": "JlqopWbgsttA"
      },
      "execution_count": null,
      "outputs": []
    },
    {
      "cell_type": "code",
      "source": [
        "#calculate buffer percentage\n",
        "df['Buffer Percentage'] = df['CV'].apply(buffer_percentage)"
      ],
      "metadata": {
        "id": "pe-moL39s1uR"
      },
      "execution_count": null,
      "outputs": []
    },
    {
      "cell_type": "code",
      "source": [
        "# Calculate buffer stock\n",
        "df['Buffer Stock'] = df['Buffer Percentage'] / 100 * df['Mean Sales']"
      ],
      "metadata": {
        "id": "kk01nAAHtsq1"
      },
      "execution_count": null,
      "outputs": []
    },
    {
      "cell_type": "code",
      "source": [
        "from google.colab import files\n",
        "df.to_csv('Buffer_Stock.csv', index=False)\n",
        "files.download('Buffer_Stock.csv')"
      ],
      "metadata": {
        "colab": {
          "base_uri": "https://localhost:8080/",
          "height": 17
        },
        "id": "QnWN3FI3tzV4",
        "outputId": "d11d0d23-9a70-462f-92e0-375bdbb7a67c"
      },
      "execution_count": null,
      "outputs": [
        {
          "output_type": "display_data",
          "data": {
            "text/plain": [
              "<IPython.core.display.Javascript object>"
            ],
            "application/javascript": [
              "\n",
              "    async function download(id, filename, size) {\n",
              "      if (!google.colab.kernel.accessAllowed) {\n",
              "        return;\n",
              "      }\n",
              "      const div = document.createElement('div');\n",
              "      const label = document.createElement('label');\n",
              "      label.textContent = `Downloading \"${filename}\": `;\n",
              "      div.appendChild(label);\n",
              "      const progress = document.createElement('progress');\n",
              "      progress.max = size;\n",
              "      div.appendChild(progress);\n",
              "      document.body.appendChild(div);\n",
              "\n",
              "      const buffers = [];\n",
              "      let downloaded = 0;\n",
              "\n",
              "      const channel = await google.colab.kernel.comms.open(id);\n",
              "      // Send a message to notify the kernel that we're ready.\n",
              "      channel.send({})\n",
              "\n",
              "      for await (const message of channel.messages) {\n",
              "        // Send a message to notify the kernel that we're ready.\n",
              "        channel.send({})\n",
              "        if (message.buffers) {\n",
              "          for (const buffer of message.buffers) {\n",
              "            buffers.push(buffer);\n",
              "            downloaded += buffer.byteLength;\n",
              "            progress.value = downloaded;\n",
              "          }\n",
              "        }\n",
              "      }\n",
              "      const blob = new Blob(buffers, {type: 'application/binary'});\n",
              "      const a = document.createElement('a');\n",
              "      a.href = window.URL.createObjectURL(blob);\n",
              "      a.download = filename;\n",
              "      div.appendChild(a);\n",
              "      a.click();\n",
              "      div.remove();\n",
              "    }\n",
              "  "
            ]
          },
          "metadata": {}
        },
        {
          "output_type": "display_data",
          "data": {
            "text/plain": [
              "<IPython.core.display.Javascript object>"
            ],
            "application/javascript": [
              "download(\"download_c5d35f7a-a0c5-420b-86f9-67b4c21ebc55\", \"Buffer_Stock.csv\", 114768)"
            ]
          },
          "metadata": {}
        }
      ]
    },
    {
      "cell_type": "markdown",
      "source": [
        "# wisnorization to Buffer Stock"
      ],
      "metadata": {
        "id": "9YdthIkVXcs7"
      }
    },
    {
      "cell_type": "code",
      "source": [
        "# Apply capping to Buffer Stock values\n",
        "buffer_stock_lower_cap = df['Buffer Stock'].quantile(0.05)\n",
        "buffer_stock_upper_cap = df['Buffer Stock'].quantile(0.95)\n",
        "df['Buffer Stock'] = df['Buffer Stock'].clip(lower=buffer_stock_lower_cap, upper=buffer_stock_upper_cap)\n",
        "\n",
        "# Round Buffer Stock to the nearest integer\n",
        "df['Buffer Stock'] = df['Buffer Stock'].round().astype(int)"
      ],
      "metadata": {
        "id": "Y6BAfSV-Xhmm"
      },
      "execution_count": null,
      "outputs": []
    },
    {
      "cell_type": "code",
      "source": [
        "# Plot Buffer Stock after capping\n",
        "import matplotlib.pyplot as plt\n",
        "plt.figure(figsize=(10, 5))\n",
        "plt.boxplot(df['Buffer Stock'])\n",
        "plt.title('Buffer Stock - After Capping and Rounding')\n",
        "plt.show()"
      ],
      "metadata": {
        "colab": {
          "base_uri": "https://localhost:8080/",
          "height": 468
        },
        "id": "grERMGV7Xv36",
        "outputId": "e9aa606b-8700-4457-e30a-972c2f3972b3"
      },
      "execution_count": null,
      "outputs": [
        {
          "output_type": "display_data",
          "data": {
            "text/plain": [
              "<Figure size 1000x500 with 1 Axes>"
            ],
            "image/png": "[encoded data removed]"
          },
          "metadata": {}
        }
      ]
    },
    {
      "cell_type": "code",
      "source": [
        "df.to_csv('updated_Finalised_Cardio_Data.csv', index=False)\n",
        "files.download('updated_Finalised_Cardio_Data.csv')"
      ],
      "metadata": {
        "colab": {
          "base_uri": "https://localhost:8080/",
          "height": 17
        },
        "id": "gLBVFaCrYBr_",
        "outputId": "49f4a718-5b87-421f-87b1-812ede27dc50"
      },
      "execution_count": null,
      "outputs": [
        {
          "output_type": "display_data",
          "data": {
            "text/plain": [
              "<IPython.core.display.Javascript object>"
            ],
            "application/javascript": [
              "\n",
              "    async function download(id, filename, size) {\n",
              "      if (!google.colab.kernel.accessAllowed) {\n",
              "        return;\n",
              "      }\n",
              "      const div = document.createElement('div');\n",
              "      const label = document.createElement('label');\n",
              "      label.textContent = `Downloading \"${filename}\": `;\n",
              "      div.appendChild(label);\n",
              "      const progress = document.createElement('progress');\n",
              "      progress.max = size;\n",
              "      div.appendChild(progress);\n",
              "      document.body.appendChild(div);\n",
              "\n",
              "      const buffers = [];\n",
              "      let downloaded = 0;\n",
              "\n",
              "      const channel = await google.colab.kernel.comms.open(id);\n",
              "      // Send a message to notify the kernel that we're ready.\n",
              "      channel.send({})\n",
              "\n",
              "      for await (const message of channel.messages) {\n",
              "        // Send a message to notify the kernel that we're ready.\n",
              "        channel.send({})\n",
              "        if (message.buffers) {\n",
              "          for (const buffer of message.buffers) {\n",
              "            buffers.push(buffer);\n",
              "            downloaded += buffer.byteLength;\n",
              "            progress.value = downloaded;\n",
              "          }\n",
              "        }\n",
              "      }\n",
              "      const blob = new Blob(buffers, {type: 'application/binary'});\n",
              "      const a = document.createElement('a');\n",
              "      a.href = window.URL.createObjectURL(blob);\n",
              "      a.download = filename;\n",
              "      div.appendChild(a);\n",
              "      a.click();\n",
              "      div.remove();\n",
              "    }\n",
              "  "
            ]
          },
          "metadata": {}
        },
        {
          "output_type": "display_data",
          "data": {
            "text/plain": [
              "<IPython.core.display.Javascript object>"
            ],
            "application/javascript": [
              "download(\"download_df8b966a-00ac-4a85-9804-7351730e343c\", \"updated_Finalised_Cardio_Data.csv\", 104637)"
            ]
          },
          "metadata": {}
        }
      ]
    }
  ]
}
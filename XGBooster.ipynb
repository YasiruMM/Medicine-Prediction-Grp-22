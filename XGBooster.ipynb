{
  "nbformat": 4,
  "nbformat_minor": 0,
  "metadata": {
    "colab": {
      "provenance": [],
      "authorship_tag": "ABX9TyPU1PlqF6y2CxRUY1Mvtvma",
      "include_colab_link": true
    },
    "kernelspec": {
      "name": "python3",
      "display_name": "Python 3"
    },
    "language_info": {
      "name": "python"
    }
  },
  "cells": [
    {
      "cell_type": "markdown",
      "metadata": {
        "id": "view-in-github",
        "colab_type": "text"
      },
      "source": [
        "<a href=\"https://colab.research.google.com/github/YasiruMM/Medicine-Prediction-Grp-22/blob/Model_Training_for_Demand_Prediction/XGBooster.ipynb\" target=\"_parent\"><img src=\"https://colab.research.google.com/assets/colab-badge.svg\" alt=\"Open In Colab\"/></a>"
      ]
    },
    {
      "cell_type": "code",
      "execution_count": null,
      "metadata": {
        "id": "fVIGXTg06imS"
      },
      "outputs": [],
      "source": [
        "# Import necessary libraries\n",
        "import pandas as pd\n",
        "import xgboost as xgb\n",
        "from sklearn.model_selection import train_test_split\n",
        "from google.colab import drive"
      ]
    },
    {
      "cell_type": "code",
      "source": [
        "# Mount Google Drive\n",
        "drive.mount('/content/drive')\n",
        "\n",
        "# Load the dataset\n",
        "file_path = '/content/drive/My Drive/DSGP/MediTrackData.csv'\n",
        "df = pd.read_csv(file_path)"
      ],
      "metadata": {
        "colab": {
          "base_uri": "https://localhost:8080/"
        },
        "id": "ChR1hpBL6sH-",
        "outputId": "40e8c819-aa7f-4683-eff6-590678e6c30c"
      },
      "execution_count": null,
      "outputs": [
        {
          "output_type": "stream",
          "name": "stdout",
          "text": [
            "Mounted at /content/drive\n"
          ]
        }
      ]
    },
    {
      "cell_type": "code",
      "source": [
        "# Prepare feature (X) and target (Y) variables\n",
        "X = df[['Disease Category', 'Drug Category', 'Drug Name', 'Dosage',\n",
        "        'Retail Price', 'Purchase Price', 'Sales', 'Date',\n",
        "        'Mean Sales', 'CV', 'Buffer Percentage', 'Buffer Stock']]\n",
        "Y = df[['Sales']]"
      ],
      "metadata": {
        "id": "yYjVozyK6031"
      },
      "execution_count": null,
      "outputs": []
    },
    {
      "cell_type": "code",
      "source": [
        "# Save 'Drug Name'& Disease Category before encoding\n",
        "drug_names = X[['Drug Name']]\n",
        "disease_categories = X[['Disease Category']]"
      ],
      "metadata": {
        "id": "4U_TPUEg9BRk"
      },
      "execution_count": null,
      "outputs": []
    },
    {
      "cell_type": "code",
      "source": [
        "# Convert 'Date' feature to numerical month values\n",
        "X['Date'] = X['Date'].astype(float)\n",
        "\n",
        "# Convert categorical variables into numerical labels (ONE-HOT-Encoding)\n",
        "X = pd.get_dummies(X, columns=['Disease Category', 'Drug Category', 'Drug Name', 'Dosage'])"
      ],
      "metadata": {
        "id": "MYmtIj1e64uP"
      },
      "execution_count": null,
      "outputs": []
    },
    {
      "cell_type": "code",
      "source": [
        "# Split into training and testing sets\n",
        "X_train, X_test, y_train, y_test = train_test_split(X, Y, test_size=0.2, random_state=42)\n"
      ],
      "metadata": {
        "id": "n13Xkotn6_X8"
      },
      "execution_count": null,
      "outputs": []
    },
    {
      "cell_type": "code",
      "source": [
        "# Convert to DMatrix format\n",
        "dtrain = xgb.DMatrix(X_train, label=y_train)\n",
        "dtest = xgb.DMatrix(X_test, label=y_test)\n"
      ],
      "metadata": {
        "id": "x-agt6KS7Duc"
      },
      "execution_count": null,
      "outputs": []
    },
    {
      "cell_type": "code",
      "source": [
        "# Set the model parameters\n",
        "params = {\n",
        "    'objective': 'reg:squarederror',  # Regression task\n",
        "    'eval_metric': 'rmse',            # Evaluation metric: root mean square error\n",
        "    'max_depth': 6,                   # Maximum tree depth\n",
        "    'learning_rate': 0.1,             # Learning rate\n",
        "    'colsample_bytree': 0.8,          # Column sampling rate\n",
        "    'subsample': 0.8                  # Subsample rate\n",
        "}"
      ],
      "metadata": {
        "id": "_wFQuS7t7FJG"
      },
      "execution_count": null,
      "outputs": []
    },
    {
      "cell_type": "code",
      "source": [
        "# Train the model by getting involved with cross validation\n",
        "num_boost_round = 100  # Number of boosting rounds\n",
        "cv_results = xgb.cv(\n",
        "    params=params,\n",
        "    dtrain=xgb.DMatrix(X, label=Y),  # Use the entire dataset for CV\n",
        "    num_boost_round=num_boost_round,\n",
        "    nfold=5,  # Number of folds in cross-validation\n",
        "    early_stopping_rounds=10,  # Stop early if the performance doesn't improve\n",
        "    as_pandas=True,  # Returns the results as a pandas DataFrame\n",
        "    verbose_eval=True  # Print progress\n",
        ")\n",
        "# Display cross-validation results\n",
        "print(cv_results)\n"
      ],
      "metadata": {
        "id": "cizdskzA7KHL",
        "colab": {
          "base_uri": "https://localhost:8080/"
        },
        "outputId": "5abe5cd2-58a4-4b6a-bd6f-20814f341c82"
      },
      "execution_count": null,
      "outputs": [
        {
          "output_type": "stream",
          "name": "stdout",
          "text": [
            "[0]\ttrain-rmse:3136.89725+27.73960\ttest-rmse:3135.70188+112.46873\n",
            "[1]\ttrain-rmse:2828.10582+25.36101\ttest-rmse:2827.68646+101.27066\n",
            "[2]\ttrain-rmse:2549.84270+23.20631\ttest-rmse:2549.52701+91.79752\n",
            "[3]\ttrain-rmse:2298.80239+20.93807\ttest-rmse:2298.19217+83.94017\n",
            "[4]\ttrain-rmse:2072.73752+18.58261\ttest-rmse:2072.64427+76.71684\n",
            "[5]\ttrain-rmse:1869.39812+16.79673\ttest-rmse:1869.70132+69.80292\n",
            "[6]\ttrain-rmse:1685.79820+15.04311\ttest-rmse:1685.60407+63.61097\n",
            "[7]\ttrain-rmse:1520.31248+13.24631\ttest-rmse:1520.09773+58.28670\n",
            "[8]\ttrain-rmse:1371.11654+11.90280\ttest-rmse:1371.68162+53.31157\n",
            "[9]\ttrain-rmse:1236.70731+10.62813\ttest-rmse:1237.15908+49.08387\n",
            "[10]\ttrain-rmse:1115.72936+9.63982\ttest-rmse:1116.07666+44.32935\n",
            "[11]\ttrain-rmse:1013.38907+8.31440\ttest-rmse:1014.53767+40.28104\n",
            "[12]\ttrain-rmse:914.61465+7.59996\ttest-rmse:915.86753+36.94494\n",
            "[13]\ttrain-rmse:863.44551+5.78047\ttest-rmse:866.41888+34.24561\n",
            "[14]\ttrain-rmse:788.04024+5.05751\ttest-rmse:792.10858+30.52029\n",
            "[15]\ttrain-rmse:718.42634+3.96856\ttest-rmse:724.13958+27.75917\n",
            "[16]\ttrain-rmse:649.06180+3.51051\ttest-rmse:654.74846+25.28587\n",
            "[17]\ttrain-rmse:586.48461+3.25379\ttest-rmse:592.38048+22.98735\n",
            "[18]\ttrain-rmse:530.18370+2.75401\ttest-rmse:536.29862+21.34617\n",
            "[19]\ttrain-rmse:479.65577+2.40455\ttest-rmse:485.94528+19.69777\n",
            "[20]\ttrain-rmse:434.01673+2.36205\ttest-rmse:440.54331+18.21830\n",
            "[21]\ttrain-rmse:393.03709+2.05564\ttest-rmse:400.03136+16.84300\n",
            "[22]\ttrain-rmse:359.70533+1.71672\ttest-rmse:367.51149+15.27748\n",
            "[23]\ttrain-rmse:326.14311+1.50433\ttest-rmse:334.39221+14.30671\n",
            "[24]\ttrain-rmse:296.14501+1.39571\ttest-rmse:304.86051+13.37868\n",
            "[25]\ttrain-rmse:268.97983+1.29292\ttest-rmse:278.29925+12.95869\n",
            "[26]\ttrain-rmse:244.53186+1.15865\ttest-rmse:254.42218+12.75606\n",
            "[27]\ttrain-rmse:222.76003+1.21345\ttest-rmse:233.54342+12.22206\n",
            "[28]\ttrain-rmse:203.26745+1.09064\ttest-rmse:214.75696+11.98245\n",
            "[29]\ttrain-rmse:185.53667+1.06050\ttest-rmse:197.75501+11.35008\n",
            "[30]\ttrain-rmse:171.86241+0.88839\ttest-rmse:185.46223+11.05981\n",
            "[31]\ttrain-rmse:157.79659+0.84561\ttest-rmse:172.00134+11.02734\n",
            "[32]\ttrain-rmse:146.83269+0.96294\ttest-rmse:161.98702+11.32323\n",
            "[33]\ttrain-rmse:137.18752+0.96131\ttest-rmse:153.35645+11.15726\n",
            "[34]\ttrain-rmse:126.64564+0.99401\ttest-rmse:143.76325+11.44684\n",
            "[35]\ttrain-rmse:118.65095+0.96606\ttest-rmse:136.74512+11.36679\n",
            "[36]\ttrain-rmse:110.09744+0.99441\ttest-rmse:129.55133+11.73945\n",
            "[37]\ttrain-rmse:102.65269+1.02295\ttest-rmse:123.35297+11.98416\n",
            "[38]\ttrain-rmse:95.95578+1.12999\ttest-rmse:117.95204+12.25762\n",
            "[39]\ttrain-rmse:89.91822+1.29938\ttest-rmse:113.10147+12.57005\n",
            "[40]\ttrain-rmse:84.68448+1.31213\ttest-rmse:109.07352+12.93555\n",
            "[41]\ttrain-rmse:79.99608+1.31987\ttest-rmse:105.41209+13.18329\n",
            "[42]\ttrain-rmse:76.43840+1.26193\ttest-rmse:102.90994+13.32362\n",
            "[43]\ttrain-rmse:72.60850+1.19931\ttest-rmse:100.08845+13.51484\n",
            "[44]\ttrain-rmse:69.79157+1.20420\ttest-rmse:98.14666+13.39859\n",
            "[45]\ttrain-rmse:66.63563+1.27454\ttest-rmse:96.02115+13.64536\n",
            "[46]\ttrain-rmse:63.99719+1.21391\ttest-rmse:94.17685+13.94095\n",
            "[47]\ttrain-rmse:61.59526+1.24659\ttest-rmse:92.44394+14.04524\n",
            "[48]\ttrain-rmse:59.36528+1.26171\ttest-rmse:91.09576+14.25093\n",
            "[49]\ttrain-rmse:57.42180+1.40570\ttest-rmse:89.95199+14.35466\n",
            "[50]\ttrain-rmse:55.65452+1.47322\ttest-rmse:89.03828+14.56622\n",
            "[51]\ttrain-rmse:54.18407+1.50920\ttest-rmse:88.21704+14.79626\n",
            "[52]\ttrain-rmse:52.84780+1.53512\ttest-rmse:87.47534+14.75200\n",
            "[53]\ttrain-rmse:51.49237+1.53437\ttest-rmse:86.71270+14.87705\n",
            "[54]\ttrain-rmse:50.30944+1.45974\ttest-rmse:85.98621+14.84631\n",
            "[55]\ttrain-rmse:49.14849+1.44539\ttest-rmse:85.71383+15.04301\n",
            "[56]\ttrain-rmse:48.14375+1.50650\ttest-rmse:85.31371+15.05294\n",
            "[57]\ttrain-rmse:47.40407+1.57849\ttest-rmse:85.07670+15.01160\n",
            "[58]\ttrain-rmse:46.66677+1.51362\ttest-rmse:84.78066+15.00561\n",
            "[59]\ttrain-rmse:45.87028+1.49661\ttest-rmse:84.45246+14.85111\n",
            "[60]\ttrain-rmse:45.22035+1.59896\ttest-rmse:84.34439+14.88455\n",
            "[61]\ttrain-rmse:44.64829+1.62902\ttest-rmse:84.01572+15.01213\n",
            "[62]\ttrain-rmse:44.00975+1.69534\ttest-rmse:83.78800+15.05033\n",
            "[63]\ttrain-rmse:43.54361+1.64042\ttest-rmse:83.56761+15.13303\n",
            "[64]\ttrain-rmse:43.04959+1.74129\ttest-rmse:83.19415+15.23025\n",
            "[65]\ttrain-rmse:42.53324+1.69379\ttest-rmse:83.15596+15.30450\n",
            "[66]\ttrain-rmse:42.29293+1.62945\ttest-rmse:83.10424+15.24358\n",
            "[67]\ttrain-rmse:41.84435+1.68205\ttest-rmse:82.92107+15.17522\n",
            "[68]\ttrain-rmse:41.53672+1.65596\ttest-rmse:82.77763+15.06915\n",
            "[69]\ttrain-rmse:41.13787+1.80955\ttest-rmse:82.52884+15.09827\n",
            "[70]\ttrain-rmse:40.73270+1.79000\ttest-rmse:82.29269+15.13760\n",
            "[71]\ttrain-rmse:40.36352+1.82527\ttest-rmse:82.00479+15.02740\n",
            "[72]\ttrain-rmse:39.97775+1.76457\ttest-rmse:81.87469+15.04354\n",
            "[73]\ttrain-rmse:39.52256+1.70610\ttest-rmse:81.82555+15.04297\n",
            "[74]\ttrain-rmse:39.30118+1.68759\ttest-rmse:81.65578+15.02014\n",
            "[75]\ttrain-rmse:38.93671+1.52542\ttest-rmse:81.66094+15.14341\n",
            "[76]\ttrain-rmse:38.56300+1.59291\ttest-rmse:81.59749+15.24303\n",
            "[77]\ttrain-rmse:38.37903+1.61635\ttest-rmse:81.61306+15.34156\n",
            "[78]\ttrain-rmse:38.10670+1.62665\ttest-rmse:81.51222+15.42757\n",
            "[79]\ttrain-rmse:37.87988+1.63350\ttest-rmse:81.47318+15.47508\n",
            "[80]\ttrain-rmse:37.70561+1.64282\ttest-rmse:81.27120+15.41554\n",
            "[81]\ttrain-rmse:37.42653+1.72897\ttest-rmse:81.24207+15.44797\n",
            "[82]\ttrain-rmse:37.25313+1.67088\ttest-rmse:81.15456+15.36968\n",
            "[83]\ttrain-rmse:36.90519+1.68230\ttest-rmse:81.12980+15.45313\n",
            "[84]\ttrain-rmse:36.62221+1.58432\ttest-rmse:81.03390+15.45683\n",
            "[85]\ttrain-rmse:36.41942+1.60345\ttest-rmse:80.84821+15.61292\n",
            "[86]\ttrain-rmse:36.28568+1.61960\ttest-rmse:80.89011+15.58498\n",
            "[87]\ttrain-rmse:36.11439+1.54012\ttest-rmse:80.98766+15.57190\n",
            "[88]\ttrain-rmse:35.80559+1.59377\ttest-rmse:81.01784+15.60363\n",
            "[89]\ttrain-rmse:35.55970+1.55351\ttest-rmse:80.97801+15.58205\n",
            "[90]\ttrain-rmse:35.40027+1.53704\ttest-rmse:80.93742+15.57716\n",
            "[91]\ttrain-rmse:35.29898+1.52154\ttest-rmse:80.94218+15.61790\n",
            "[92]\ttrain-rmse:35.06770+1.51587\ttest-rmse:81.04498+15.59261\n",
            "[93]\ttrain-rmse:34.90375+1.43520\ttest-rmse:81.06366+15.56118\n",
            "[94]\ttrain-rmse:34.76425+1.43157\ttest-rmse:81.03266+15.53641\n",
            "    train-rmse-mean  train-rmse-std  test-rmse-mean  test-rmse-std\n",
            "0       3136.897249       27.739595     3135.701876     112.468732\n",
            "1       2828.105823       25.361009     2827.686460     101.270663\n",
            "2       2549.842703       23.206307     2549.527012      91.797524\n",
            "3       2298.802395       20.938071     2298.192167      83.940165\n",
            "4       2072.737519       18.582610     2072.644274      76.716837\n",
            "..              ...             ...             ...            ...\n",
            "81        37.426527        1.728967       81.242073      15.447974\n",
            "82        37.253127        1.670882       81.154555      15.369677\n",
            "83        36.905192        1.682302       81.129798      15.453132\n",
            "84        36.622211        1.584316       81.033896      15.456830\n",
            "85        36.419422        1.603452       80.848206      15.612918\n",
            "\n",
            "[86 rows x 4 columns]\n"
          ]
        }
      ]
    },
    {
      "cell_type": "code",
      "source": [
        "#getting the best boosting round based on the evaluation metric\n",
        "best_round = cv_results['test-rmse-mean'].idxmin()  # finding the best round with the minimum RMSE\n",
        "print(f\"Best boosting round: {best_round}\")\n"
      ],
      "metadata": {
        "colab": {
          "base_uri": "https://localhost:8080/"
        },
        "id": "slFApKzDC5DO",
        "outputId": "40842e4e-85a4-4456-9488-bfd90fa5baf7"
      },
      "execution_count": null,
      "outputs": [
        {
          "output_type": "stream",
          "name": "stdout",
          "text": [
            "Best boosting round: 85\n"
          ]
        }
      ]
    },
    {
      "cell_type": "code",
      "source": [
        "# training the final model by using the best boosting round\n",
        "model = xgb.train(\n",
        "    params=params,\n",
        "    dtrain=xgb.DMatrix(X, label=Y),\n",
        "    num_boost_round=best_round  # Train with the optimal number of boosting rounds\n",
        ")\n"
      ],
      "metadata": {
        "id": "UfiQ2UBRDGFu"
      },
      "execution_count": null,
      "outputs": []
    },
    {
      "cell_type": "code",
      "source": [
        "# saving test dataset for future predictions\n",
        "X_test_future=X_test.copy()\n",
        "\n",
        "\n"
      ],
      "metadata": {
        "id": "l9-W4L2eYVLQ"
      },
      "execution_count": null,
      "outputs": []
    },
    {
      "cell_type": "code",
      "source": [
        "import numpy as np\n",
        "# loop XGBooster for 6 months predictions\n",
        "future_results=pd.DataFrame()\n",
        "for month in range(1,7):\n",
        "  # extract Months & Years seperately\n",
        "  X_test_future['Month']=X_test_future['Date'].astype(int)\n",
        "  X_test_future['Year']=(X_test_future['Date']-X_test_future['Month'])*100\n",
        "\n",
        "  # Handle Month and Year updation\n",
        "  X_test_future['Month']=X_test_future['Month']+1\n",
        "  X_test_future['Year']=X_test_future['Year']+ (X_test_future['Month']//12) # handle Year overflow situations\n",
        "  X_test_future['Month']=X_test_future['Month']%12 # Reset Months for exceeding 12 situations\n",
        "\n",
        "  X_test_future['Date']=X_test_future['Month'] + X_test_future['Year']/100.0    # Reconstruction of Date Feature.\n",
        "  X_test_future=X_test_future.drop(columns=['Month','Year']) # Drop Month and Year from Original dataset.\n",
        "  dtest_future = xgb.DMatrix(X_test_future)\n",
        "  predictions_future = np.round(model.predict(dtest_future)) # prediction for next month\n",
        "  future_Month_Results=pd.DataFrame({\n",
        "          'Disease Category': disease_categories.iloc[X_test_future.index]['Disease Category'],\n",
        "          'Drug Name': drug_names.iloc[X_test_future.index]['Drug Name'],\n",
        "          'Month': [month] * len(predictions_future),\n",
        "          'Predicted Sales': predictions_future\n",
        "\n",
        "      })\n",
        "\n",
        "     # Concatenate instead of append\n",
        "  future_results = pd.concat([future_results, future_Month_Results], ignore_index=True)\n",
        "\n",
        "\n"
      ],
      "metadata": {
        "id": "Az6phxHPZ6-j"
      },
      "execution_count": null,
      "outputs": []
    },
    {
      "cell_type": "code",
      "source": [
        "print(future_results.head())"
      ],
      "metadata": {
        "colab": {
          "base_uri": "https://localhost:8080/"
        },
        "id": "2Jj2ZPnEclmV",
        "outputId": "2850a42b-1524-4a9f-91e2-c745f40a06ae"
      },
      "execution_count": null,
      "outputs": [
        {
          "output_type": "stream",
          "name": "stdout",
          "text": [
            "  Disease Category         Drug Name  Month  Predicted Sales\n",
            "0      Cholesterol     GLIDABET 80MG      1             92.0\n",
            "1      Cholesterol    GLUCOZIDE 80MG      1           7869.0\n",
            "2      Cholesterol  DIAZIDE TAB 80MG      1             30.0\n",
            "3      Cholesterol       GLIVIC 40MG      1            122.0\n",
            "4   Cardiovascular      LOWPRES 50MG      1            962.0\n"
          ]
        }
      ]
    },
    {
      "cell_type": "markdown",
      "source": [
        "# R^2 and Coefficient of Variance Determination"
      ],
      "metadata": {
        "id": "k-SOBC-NItCg"
      }
    },
    {
      "cell_type": "code",
      "source": [
        "from sklearn.metrics import r2_score\n",
        "\n",
        "# Calculate R² score\n",
        "r2 = r2_score(y_test, predictions_future)\n",
        "print(f\"R²: {r2}\")"
      ],
      "metadata": {
        "colab": {
          "base_uri": "https://localhost:8080/"
        },
        "id": "4BGE2Oz0I00E",
        "outputId": "4ce1c547-208c-48fa-8090-7c5ade419d95"
      },
      "execution_count": null,
      "outputs": [
        {
          "output_type": "stream",
          "name": "stdout",
          "text": [
            "R²: 0.9990503787994385\n"
          ]
        }
      ]
    },
    {
      "cell_type": "code",
      "source": [
        "import numpy as np\n",
        "\n",
        "# Calculate Coefficient of Variation (CV)\n",
        "cv =( np.std(predictions_future) / np.mean(predictions_future) )* 100\n",
        "print(f\"Coefficient of Variation (CV): {cv}%\")"
      ],
      "metadata": {
        "colab": {
          "base_uri": "https://localhost:8080/"
        },
        "id": "rkhYARhiJJJF",
        "outputId": "834d29a5-7135-414c-96c9-2cf7b9687076"
      },
      "execution_count": null,
      "outputs": [
        {
          "output_type": "stream",
          "name": "stdout",
          "text": [
            "Coefficient of Variation (CV): 199.5741844177246%\n"
          ]
        }
      ]
    },
    {
      "cell_type": "code",
      "source": [
        "# # Make predictions\n",
        "# predictions = model.predict(dtest)\n",
        "\n",
        "# # Create a DataFrame with the predictions and drug names\n",
        "# results = pd.DataFrame({\n",
        "#     'Drug Name': drug_names.iloc[X_test.index]['Drug Name'],  # Map back to the original Drug Name\n",
        "#     'Disease Category': disease_categories.iloc[X_test.index]['Disease Category'],  # Map back to the original Disease Category\n",
        "#     'Predicted Sales': predictions\n",
        "# })"
      ],
      "metadata": {
        "id": "5xBolrbe7RWI"
      },
      "execution_count": null,
      "outputs": []
    },
    {
      "cell_type": "code",
      "source": [
        "# Pivot the DataFrame so each drug has predictions in a single row\n",
        "pivot_results = future_results.pivot_table(\n",
        "    index=['Disease Category', 'Drug Name'],\n",
        "    columns='Month',\n",
        "    values='Predicted Sales'\n",
        ").reset_index()\n",
        "\n",
        "#Enhancing readability by renaming for all Predictions\n",
        "pivot_results.columns = ['Disease Category', 'Drug Name', 'Prediction 1', 'Prediction 2', 'Prediction 3', 'Prediction 4', 'Prediction 5', 'Prediction 6']\n"
      ],
      "metadata": {
        "id": "boU6kkN-9LQD"
      },
      "execution_count": null,
      "outputs": []
    },
    {
      "cell_type": "code",
      "source": [
        "from google.colab import files\n",
        "pivot_results.to_csv('Medicine predictions XGBooster.csv', index=False)\n",
        "files.download('Medicine predictions XGBooster.csv')\n"
      ],
      "metadata": {
        "colab": {
          "base_uri": "https://localhost:8080/",
          "height": 17
        },
        "id": "2LdtLA0AjPCa",
        "outputId": "2c997709-e2e8-47c1-c80d-e2b74959dac1"
      },
      "execution_count": null,
      "outputs": [
        {
          "output_type": "display_data",
          "data": {
            "text/plain": [
              "<IPython.core.display.Javascript object>"
            ],
            "application/javascript": [
              "\n",
              "    async function download(id, filename, size) {\n",
              "      if (!google.colab.kernel.accessAllowed) {\n",
              "        return;\n",
              "      }\n",
              "      const div = document.createElement('div');\n",
              "      const label = document.createElement('label');\n",
              "      label.textContent = `Downloading \"${filename}\": `;\n",
              "      div.appendChild(label);\n",
              "      const progress = document.createElement('progress');\n",
              "      progress.max = size;\n",
              "      div.appendChild(progress);\n",
              "      document.body.appendChild(div);\n",
              "\n",
              "      const buffers = [];\n",
              "      let downloaded = 0;\n",
              "\n",
              "      const channel = await google.colab.kernel.comms.open(id);\n",
              "      // Send a message to notify the kernel that we're ready.\n",
              "      channel.send({})\n",
              "\n",
              "      for await (const message of channel.messages) {\n",
              "        // Send a message to notify the kernel that we're ready.\n",
              "        channel.send({})\n",
              "        if (message.buffers) {\n",
              "          for (const buffer of message.buffers) {\n",
              "            buffers.push(buffer);\n",
              "            downloaded += buffer.byteLength;\n",
              "            progress.value = downloaded;\n",
              "          }\n",
              "        }\n",
              "      }\n",
              "      const blob = new Blob(buffers, {type: 'application/binary'});\n",
              "      const a = document.createElement('a');\n",
              "      a.href = window.URL.createObjectURL(blob);\n",
              "      a.download = filename;\n",
              "      div.appendChild(a);\n",
              "      a.click();\n",
              "      div.remove();\n",
              "    }\n",
              "  "
            ]
          },
          "metadata": {}
        },
        {
          "output_type": "display_data",
          "data": {
            "text/plain": [
              "<IPython.core.display.Javascript object>"
            ],
            "application/javascript": [
              "download(\"download_9a2e5890-cfd1-49a0-816c-45710125b610\", \"Medicine predictions XGBooster.csv\", 17949)"
            ]
          },
          "metadata": {}
        }
      ]
    }
  ]
}
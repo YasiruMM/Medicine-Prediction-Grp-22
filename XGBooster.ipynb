{
  "nbformat": 4,
  "nbformat_minor": 0,
  "metadata": {
    "colab": {
      "provenance": [],
      "authorship_tag": "ABX9TyNcTRdox3jUvELvsk612G+e",
      "include_colab_link": true
    },
    "kernelspec": {
      "name": "python3",
      "display_name": "Python 3"
    },
    "language_info": {
      "name": "python"
    }
  },
  "cells": [
    {
      "cell_type": "markdown",
      "metadata": {
        "id": "view-in-github",
        "colab_type": "text"
      },
      "source": [
        "<a href=\"https://colab.research.google.com/github/YasiruMM/Medicine-Prediction-Grp-22/blob/Model_Training_for_Demand_Prediction/XGBooster.ipynb\" target=\"_parent\"><img src=\"https://colab.research.google.com/assets/colab-badge.svg\" alt=\"Open In Colab\"/></a>"
      ]
    },
    {
      "cell_type": "code",
      "execution_count": 1,
      "metadata": {
        "id": "fVIGXTg06imS"
      },
      "outputs": [],
      "source": [
        "# Import necessary libraries\n",
        "import pandas as pd\n",
        "import xgboost as xgb\n",
        "from sklearn.model_selection import train_test_split\n",
        "from google.colab import drive"
      ]
    },
    {
      "cell_type": "code",
      "source": [
        "# Mount Google Drive\n",
        "drive.mount('/content/drive')\n",
        "\n",
        "# Load the dataset\n",
        "file_path = '/content/drive/My Drive/DSGP/MediTrackData.csv'\n",
        "df = pd.read_csv(file_path)"
      ],
      "metadata": {
        "colab": {
          "base_uri": "https://localhost:8080/"
        },
        "id": "ChR1hpBL6sH-",
        "outputId": "7ea07b65-1746-4016-8c10-d79a809bb7dd"
      },
      "execution_count": 2,
      "outputs": [
        {
          "output_type": "stream",
          "name": "stdout",
          "text": [
            "Mounted at /content/drive\n"
          ]
        }
      ]
    },
    {
      "cell_type": "code",
      "source": [
        "# Prepare feature (X) and target (Y) variables\n",
        "X = df[['Disease Category', 'Drug Category', 'Drug Name', 'Dosage',\n",
        "        'Retail Price', 'Purchase Price', 'Sales', 'Date',\n",
        "        'Mean Sales', 'CV', 'Buffer Percentage', 'Buffer Stock']]\n",
        "Y = df[['Sales']]"
      ],
      "metadata": {
        "id": "yYjVozyK6031"
      },
      "execution_count": 13,
      "outputs": []
    },
    {
      "cell_type": "code",
      "source": [
        "# Save 'Drug Name'& Disease Category before encoding\n",
        "drug_names = X[['Drug Name']]\n",
        "disease_categories = X[['Disease Category']]"
      ],
      "metadata": {
        "id": "4U_TPUEg9BRk"
      },
      "execution_count": 14,
      "outputs": []
    },
    {
      "cell_type": "code",
      "source": [
        "# Convert 'Date' feature to numerical month values\n",
        "X['Date'] = X['Date'].astype(float)\n",
        "\n",
        "# Convert categorical variables into numerical labels (ONE-HOT-Encoding)\n",
        "X = pd.get_dummies(X, columns=['Disease Category', 'Drug Category', 'Drug Name', 'Dosage'])"
      ],
      "metadata": {
        "id": "MYmtIj1e64uP"
      },
      "execution_count": 15,
      "outputs": []
    },
    {
      "cell_type": "code",
      "source": [
        "# Split into training and testing sets\n",
        "X_train, X_test, y_train, y_test = train_test_split(X, Y, test_size=0.2, random_state=42)\n"
      ],
      "metadata": {
        "id": "n13Xkotn6_X8"
      },
      "execution_count": 16,
      "outputs": []
    },
    {
      "cell_type": "code",
      "source": [
        "# Convert to DMatrix format\n",
        "dtrain = xgb.DMatrix(X_train, label=y_train)\n",
        "dtest = xgb.DMatrix(X_test, label=y_test)\n"
      ],
      "metadata": {
        "id": "x-agt6KS7Duc"
      },
      "execution_count": 17,
      "outputs": []
    },
    {
      "cell_type": "code",
      "source": [
        "# Set the model parameters\n",
        "params = {\n",
        "    'objective': 'reg:squarederror',  # Regression task\n",
        "    'eval_metric': 'rmse',            # Evaluation metric: root mean square error\n",
        "    'max_depth': 6,                   # Maximum tree depth\n",
        "    'learning_rate': 0.1,             # Learning rate\n",
        "    'colsample_bytree': 0.8,          # Column sampling rate\n",
        "    'subsample': 0.8                  # Subsample rate\n",
        "}"
      ],
      "metadata": {
        "id": "_wFQuS7t7FJG"
      },
      "execution_count": 18,
      "outputs": []
    },
    {
      "cell_type": "code",
      "source": [
        "# Train the model\n",
        "num_boost_round = 100  # Number of boosting rounds\n",
        "model = xgb.train(params, dtrain, num_boost_round=num_boost_round)"
      ],
      "metadata": {
        "id": "cizdskzA7KHL"
      },
      "execution_count": 19,
      "outputs": []
    },
    {
      "cell_type": "code",
      "source": [
        "# saving test dataset for future predictions\n",
        "X_test_future=X_test.copy()\n"
      ],
      "metadata": {
        "id": "l9-W4L2eYVLQ"
      },
      "execution_count": 20,
      "outputs": []
    },
    {
      "cell_type": "code",
      "source": [
        "# loop XGBooster for 6 months predictions\n",
        "future_results=pd.DataFrame()\n",
        "for month in range(1,7):\n",
        "  X_test_future['Date']=X_test_future['Date']+1\n",
        "  dtest_future = xgb.DMatrix(X_test_future)\n",
        "  predictions_future = model.predict(dtest_future) # prediction for next month\n",
        "  future_Month_Results=pd.DataFrame({\n",
        "          'Disease Category': disease_categories.iloc[X_test_future.index]['Disease Category'],\n",
        "          'Drug Name': drug_names.iloc[X_test_future.index]['Drug Name'],\n",
        "          'Month': [month] * len(predictions_future),\n",
        "          'Predicted Sales': predictions_future\n",
        "\n",
        "      })\n",
        "\n",
        "     # Concatenate instead of append\n",
        "  future_results = pd.concat([future_results, future_Month_Results], ignore_index=True)\n",
        "\n",
        "\n"
      ],
      "metadata": {
        "id": "Az6phxHPZ6-j"
      },
      "execution_count": 22,
      "outputs": []
    },
    {
      "cell_type": "code",
      "source": [
        "print(future_results)"
      ],
      "metadata": {
        "colab": {
          "base_uri": "https://localhost:8080/"
        },
        "id": "2Jj2ZPnEclmV",
        "outputId": "2e40b659-f2a4-4f55-e10c-09e40fa2a0e0"
      },
      "execution_count": 23,
      "outputs": [
        {
          "output_type": "stream",
          "name": "stdout",
          "text": [
            "     Disease Category          Drug Name  Month  Predicted Sales\n",
            "0         Cholesterol      GLIDABET 80MG      1        85.558144\n",
            "1         Cholesterol     GLUCOZIDE 80MG      1      7875.267090\n",
            "2         Cholesterol   DIAZIDE TAB 80MG      1        35.108910\n",
            "3         Cholesterol        GLIVIC 40MG      1       116.454086\n",
            "4      Cardiovascular       LOWPRES 50MG      1       948.305786\n",
            "...               ...                ...    ...              ...\n",
            "7015      Cholesterol    GLICLAZIDE 80MG      6       322.201630\n",
            "7016      Cholesterol        GD-CARE 5MG      6       139.593445\n",
            "7017      Cholesterol  GLIVIC MR 60 80MG      6        12.478703\n",
            "7018      Cholesterol          PIOZ 15MG      6      8908.690430\n",
            "7019      Cholesterol       RECLIDE 80MG      6      7542.361328\n",
            "\n",
            "[7020 rows x 4 columns]\n"
          ]
        }
      ]
    },
    {
      "cell_type": "code",
      "source": [
        "# # Make predictions\n",
        "# predictions = model.predict(dtest)\n",
        "\n",
        "# # Create a DataFrame with the predictions and drug names\n",
        "# results = pd.DataFrame({\n",
        "#     'Drug Name': drug_names.iloc[X_test.index]['Drug Name'],  # Map back to the original Drug Name\n",
        "#     'Disease Category': disease_categories.iloc[X_test.index]['Disease Category'],  # Map back to the original Disease Category\n",
        "#     'Predicted Sales': predictions\n",
        "# })"
      ],
      "metadata": {
        "id": "5xBolrbe7RWI"
      },
      "execution_count": null,
      "outputs": []
    },
    {
      "cell_type": "code",
      "source": [
        "# Pivot the DataFrame so each drug has predictions in a single row\n",
        "pivot_results = future_results.pivot_table(\n",
        "    index=['Disease Category', 'Drug Name'],\n",
        "    columns='Month',\n",
        "    values='Predicted Sales'\n",
        ").reset_index()\n"
      ],
      "metadata": {
        "colab": {
          "base_uri": "https://localhost:8080/"
        },
        "id": "boU6kkN-9LQD",
        "outputId": "3077253f-599d-490f-a291-981a91f911a6"
      },
      "execution_count": null,
      "outputs": [
        {
          "output_type": "stream",
          "name": "stdout",
          "text": [
            "             Drug Name  Predicted Sales\n",
            "5110     GLIDABET 80MG        85.558144\n",
            "3309    GLUCOZIDE 80MG      7882.855957\n",
            "4233  DIAZIDE TAB 80MG        35.108910\n",
            "5527       GLIVIC 40MG       116.454086\n",
            "681       LOWPRES 50MG       948.305786\n"
          ]
        }
      ]
    }
  ]
}
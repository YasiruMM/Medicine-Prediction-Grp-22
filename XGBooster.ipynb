{
  "nbformat": 4,
  "nbformat_minor": 0,
  "metadata": {
    "colab": {
      "provenance": [],
      "authorship_tag": "ABX9TyMozeBkkUJnyd9AXVuWdcez",
      "include_colab_link": true
    },
    "kernelspec": {
      "name": "python3",
      "display_name": "Python 3"
    },
    "language_info": {
      "name": "python"
    }
  },
  "cells": [
    {
      "cell_type": "markdown",
      "metadata": {
        "id": "view-in-github",
        "colab_type": "text"
      },
      "source": [
        "<a href=\"https://colab.research.google.com/github/YasiruMM/Medicine-Prediction-Grp-22/blob/Model_Training_for_Demand_Prediction/XGBooster.ipynb\" target=\"_parent\"><img src=\"https://colab.research.google.com/assets/colab-badge.svg\" alt=\"Open In Colab\"/></a>"
      ]
    },
    {
      "cell_type": "code",
      "execution_count": 1,
      "metadata": {
        "id": "fVIGXTg06imS"
      },
      "outputs": [],
      "source": [
        "# Import necessary libraries\n",
        "import pandas as pd\n",
        "import xgboost as xgb\n",
        "from sklearn.model_selection import train_test_split\n",
        "from google.colab import drive"
      ]
    },
    {
      "cell_type": "code",
      "source": [
        "# Mount Google Drive\n",
        "drive.mount('/content/drive')\n",
        "\n",
        "# Load the dataset\n",
        "file_path = '/content/drive/My Drive/DSGP/MediTrackData.csv'\n",
        "df = pd.read_csv(file_path)"
      ],
      "metadata": {
        "colab": {
          "base_uri": "https://localhost:8080/"
        },
        "id": "ChR1hpBL6sH-",
        "outputId": "40e8c819-aa7f-4683-eff6-590678e6c30c"
      },
      "execution_count": 2,
      "outputs": [
        {
          "output_type": "stream",
          "name": "stdout",
          "text": [
            "Mounted at /content/drive\n"
          ]
        }
      ]
    },
    {
      "cell_type": "code",
      "source": [
        "# Prepare feature (X) and target (Y) variables\n",
        "X = df[['Disease Category', 'Drug Category', 'Drug Name', 'Dosage',\n",
        "        'Retail Price', 'Purchase Price', 'Sales', 'Date',\n",
        "        'Mean Sales', 'CV', 'Buffer Percentage', 'Buffer Stock']]\n",
        "Y = df[['Sales']]"
      ],
      "metadata": {
        "id": "yYjVozyK6031"
      },
      "execution_count": 3,
      "outputs": []
    },
    {
      "cell_type": "code",
      "source": [
        "# Save 'Drug Name'& Disease Category before encoding\n",
        "drug_names = X[['Drug Name']]\n",
        "disease_categories = X[['Disease Category']]"
      ],
      "metadata": {
        "id": "4U_TPUEg9BRk"
      },
      "execution_count": 4,
      "outputs": []
    },
    {
      "cell_type": "code",
      "source": [
        "# Convert 'Date' feature to numerical month values\n",
        "X['Date'] = X['Date'].astype(float)\n",
        "\n",
        "# Convert categorical variables into numerical labels (ONE-HOT-Encoding)\n",
        "X = pd.get_dummies(X, columns=['Disease Category', 'Drug Category', 'Drug Name', 'Dosage'])"
      ],
      "metadata": {
        "id": "MYmtIj1e64uP"
      },
      "execution_count": 5,
      "outputs": []
    },
    {
      "cell_type": "code",
      "source": [
        "# Split into training and testing sets\n",
        "X_train, X_test, y_train, y_test = train_test_split(X, Y, test_size=0.2, random_state=42)\n"
      ],
      "metadata": {
        "id": "n13Xkotn6_X8"
      },
      "execution_count": 6,
      "outputs": []
    },
    {
      "cell_type": "code",
      "source": [
        "# Convert to DMatrix format\n",
        "dtrain = xgb.DMatrix(X_train, label=y_train)\n",
        "dtest = xgb.DMatrix(X_test, label=y_test)\n"
      ],
      "metadata": {
        "id": "x-agt6KS7Duc"
      },
      "execution_count": 7,
      "outputs": []
    },
    {
      "cell_type": "code",
      "source": [
        "# Set the model parameters\n",
        "params = {\n",
        "    'objective': 'reg:squarederror',  # Regression task\n",
        "    'eval_metric': 'rmse',            # Evaluation metric: root mean square error\n",
        "    'max_depth': 6,                   # Maximum tree depth\n",
        "    'learning_rate': 0.1,             # Learning rate\n",
        "    'colsample_bytree': 0.8,          # Column sampling rate\n",
        "    'subsample': 0.8                  # Subsample rate\n",
        "}"
      ],
      "metadata": {
        "id": "_wFQuS7t7FJG"
      },
      "execution_count": 8,
      "outputs": []
    },
    {
      "cell_type": "code",
      "source": [
        "# Train the model\n",
        "num_boost_round = 100  # Number of boosting rounds\n",
        "model = xgb.train(params, dtrain, num_boost_round=num_boost_round)"
      ],
      "metadata": {
        "id": "cizdskzA7KHL"
      },
      "execution_count": 9,
      "outputs": []
    },
    {
      "cell_type": "code",
      "source": [
        "# saving test dataset for future predictions\n",
        "X_test_future=X_test.copy()\n",
        "\n",
        "\n"
      ],
      "metadata": {
        "id": "l9-W4L2eYVLQ"
      },
      "execution_count": 10,
      "outputs": []
    },
    {
      "cell_type": "code",
      "source": [
        "import numpy as np\n",
        "# loop XGBooster for 6 months predictions\n",
        "future_results=pd.DataFrame()\n",
        "for month in range(1,7):\n",
        "  # extract Months & Years seperately\n",
        "  X_test_future['Month']=X_test_future['Date'].astype(int)\n",
        "  X_test_future['Year']=(X_test_future['Date']-X_test_future['Month'])*100\n",
        "\n",
        "  # Handle Month and Year updation\n",
        "  X_test_future['Month']=X_test_future['Month']+1\n",
        "  X_test_future['Year']=X_test_future['Year']+ (X_test_future['Month']//12) # handle Year overflow situations\n",
        "  X_test_future['Month']=X_test_future['Month']%12 # Reset Months for exceeding 12 situations\n",
        "\n",
        "  X_test_future['Date']=X_test_future['Month'] + X_test_future['Year']/100.0    # Reconstruction of Date Feature.\n",
        "  X_test_future=X_test_future.drop(columns=['Month','Year']) # Drop Month and Year from Original dataset.\n",
        "  dtest_future = xgb.DMatrix(X_test_future)\n",
        "  predictions_future = np.round(model.predict(dtest_future)) # prediction for next month\n",
        "  future_Month_Results=pd.DataFrame({\n",
        "          'Disease Category': disease_categories.iloc[X_test_future.index]['Disease Category'],\n",
        "          'Drug Name': drug_names.iloc[X_test_future.index]['Drug Name'],\n",
        "          'Month': [month] * len(predictions_future),\n",
        "          'Predicted Sales': predictions_future\n",
        "\n",
        "      })\n",
        "\n",
        "     # Concatenate instead of append\n",
        "  future_results = pd.concat([future_results, future_Month_Results], ignore_index=True)\n",
        "\n",
        "\n"
      ],
      "metadata": {
        "id": "Az6phxHPZ6-j"
      },
      "execution_count": 14,
      "outputs": []
    },
    {
      "cell_type": "code",
      "source": [
        "print(future_results.head())"
      ],
      "metadata": {
        "colab": {
          "base_uri": "https://localhost:8080/"
        },
        "id": "2Jj2ZPnEclmV",
        "outputId": "1002749a-7cd4-43a4-dfec-ca91f6b1541d"
      },
      "execution_count": 15,
      "outputs": [
        {
          "output_type": "stream",
          "name": "stdout",
          "text": [
            "  Disease Category         Drug Name  Month  Predicted Sales\n",
            "0      Cholesterol     GLIDABET 80MG      1             86.0\n",
            "1      Cholesterol    GLUCOZIDE 80MG      1           7877.0\n",
            "2      Cholesterol  DIAZIDE TAB 80MG      1             35.0\n",
            "3      Cholesterol       GLIVIC 40MG      1            116.0\n",
            "4   Cardiovascular      LOWPRES 50MG      1            948.0\n"
          ]
        }
      ]
    },
    {
      "cell_type": "code",
      "source": [
        "# # Make predictions\n",
        "# predictions = model.predict(dtest)\n",
        "\n",
        "# # Create a DataFrame with the predictions and drug names\n",
        "# results = pd.DataFrame({\n",
        "#     'Drug Name': drug_names.iloc[X_test.index]['Drug Name'],  # Map back to the original Drug Name\n",
        "#     'Disease Category': disease_categories.iloc[X_test.index]['Disease Category'],  # Map back to the original Disease Category\n",
        "#     'Predicted Sales': predictions\n",
        "# })"
      ],
      "metadata": {
        "id": "5xBolrbe7RWI"
      },
      "execution_count": null,
      "outputs": []
    },
    {
      "cell_type": "code",
      "source": [
        "# Pivot the DataFrame so each drug has predictions in a single row\n",
        "pivot_results = future_results.pivot_table(\n",
        "    index=['Disease Category', 'Drug Name'],\n",
        "    columns='Month',\n",
        "    values='Predicted Sales'\n",
        ").reset_index()\n",
        "\n",
        "#Enhancing readability by renaming for all Predictions\n",
        "pivot_results.columns = ['Disease Category', 'Drug Name', 'Prediction 1', 'Prediction 2', 'Prediction 3', 'Prediction 4', 'Prediction 5', 'Prediction 6']\n"
      ],
      "metadata": {
        "id": "boU6kkN-9LQD"
      },
      "execution_count": 16,
      "outputs": []
    },
    {
      "cell_type": "code",
      "source": [
        "from google.colab import files\n",
        "pivot_results.to_csv('Medicine predictions XGBooster.csv', index=False)\n",
        "files.download('Medicine predictions XGBooster.csv')\n"
      ],
      "metadata": {
        "colab": {
          "base_uri": "https://localhost:8080/",
          "height": 17
        },
        "id": "2LdtLA0AjPCa",
        "outputId": "2c997709-e2e8-47c1-c80d-e2b74959dac1"
      },
      "execution_count": 17,
      "outputs": [
        {
          "output_type": "display_data",
          "data": {
            "text/plain": [
              "<IPython.core.display.Javascript object>"
            ],
            "application/javascript": [
              "\n",
              "    async function download(id, filename, size) {\n",
              "      if (!google.colab.kernel.accessAllowed) {\n",
              "        return;\n",
              "      }\n",
              "      const div = document.createElement('div');\n",
              "      const label = document.createElement('label');\n",
              "      label.textContent = `Downloading \"${filename}\": `;\n",
              "      div.appendChild(label);\n",
              "      const progress = document.createElement('progress');\n",
              "      progress.max = size;\n",
              "      div.appendChild(progress);\n",
              "      document.body.appendChild(div);\n",
              "\n",
              "      const buffers = [];\n",
              "      let downloaded = 0;\n",
              "\n",
              "      const channel = await google.colab.kernel.comms.open(id);\n",
              "      // Send a message to notify the kernel that we're ready.\n",
              "      channel.send({})\n",
              "\n",
              "      for await (const message of channel.messages) {\n",
              "        // Send a message to notify the kernel that we're ready.\n",
              "        channel.send({})\n",
              "        if (message.buffers) {\n",
              "          for (const buffer of message.buffers) {\n",
              "            buffers.push(buffer);\n",
              "            downloaded += buffer.byteLength;\n",
              "            progress.value = downloaded;\n",
              "          }\n",
              "        }\n",
              "      }\n",
              "      const blob = new Blob(buffers, {type: 'application/binary'});\n",
              "      const a = document.createElement('a');\n",
              "      a.href = window.URL.createObjectURL(blob);\n",
              "      a.download = filename;\n",
              "      div.appendChild(a);\n",
              "      a.click();\n",
              "      div.remove();\n",
              "    }\n",
              "  "
            ]
          },
          "metadata": {}
        },
        {
          "output_type": "display_data",
          "data": {
            "text/plain": [
              "<IPython.core.display.Javascript object>"
            ],
            "application/javascript": [
              "download(\"download_9a2e5890-cfd1-49a0-816c-45710125b610\", \"Medicine predictions XGBooster.csv\", 17949)"
            ]
          },
          "metadata": {}
        }
      ]
    }
  ]
}
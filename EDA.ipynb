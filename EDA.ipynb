{
 "cells": [
  {
   "metadata": {
    "jupyter": {
     "is_executing": true
    }
   },
   "cell_type": "code",
   "source": [
    "import pandas as pd\n",
    "data = pd.read_excel('C:/Users/ASUS/OneDrive/Desktop/Drug_Data_With_Stock.xlsx')\n"
   ],
   "id": "197ab0c50a4dab19",
   "outputs": [],
   "execution_count": null
  },
  {
   "metadata": {},
   "cell_type": "code",
   "outputs": [],
   "execution_count": null,
   "source": [
    "print(data.info())\n",
    "print(data.describe())\n",
    "print(data.head())\n"
   ],
   "id": "3c369fa3efcd7e17"
  },
  {
   "metadata": {},
   "cell_type": "markdown",
   "source": [
    "Visualizations and Analyses:\n",
    "Time-Series Analysis:\n",
    "\n",
    "Plot sales trends over time for different drugs."
   ],
   "id": "d6e8b2cf7c4d3862"
  },
  {
   "metadata": {},
   "cell_type": "code",
   "outputs": [],
   "execution_count": null,
   "source": [
    "import matplotlib.pyplot as plt\n",
    "\n",
    "for drug in data['Drug Name'].unique():\n",
    "    drug_data = data[data['Drug Name'] == drug]\n",
    "    plt.plot(drug_data['Date'], drug_data['Sales'], label=drug)\n",
    "\n",
    "plt.xlabel('Date')\n",
    "plt.ylabel('Sales')\n",
    "plt.title('Sales Trends Over Time')\n",
    "plt.legend()\n",
    "plt.show()\n"
   ],
   "id": "26b9589bbbc24792"
  },
  {
   "metadata": {},
   "cell_type": "markdown",
   "source": [
    "Correlation Analysis:\n",
    "\n",
    "Use a heatmap to explore correlations between numerical features."
   ],
   "id": "a81e9e1ea58ddc91"
  },
  {
   "metadata": {},
   "cell_type": "code",
   "outputs": [],
   "execution_count": null,
   "source": [
    "import seaborn as sns\n",
    "\n",
    "numeric_data = data.select_dtypes(include=['float64', 'int64'])\n",
    "correlation_matrix = numeric_data.corr()\n",
    "\n",
    "plt.figure(figsize=(10, 6))\n",
    "sns.heatmap(correlation_matrix, annot=True, cmap='coolwarm')\n",
    "plt.title('Correlation Heatmap')\n",
    "plt.show()\n"
   ],
   "id": "67a69ab221cbcd20"
  },
  {
   "metadata": {},
   "cell_type": "markdown",
   "source": [
    "Seasonality Check:\n",
    "\n",
    "Check if there are seasonal patterns in sales."
   ],
   "id": "31f596b49b7629c6"
  },
  {
   "metadata": {},
   "cell_type": "code",
   "outputs": [],
   "execution_count": null,
   "source": [
    "data['Month'] = pd.to_datetime(data['Date']).dt.month\n",
    "monthly_sales = data.groupby('Month')['Sales'].sum()\n",
    "\n",
    "plt.plot(monthly_sales.index, monthly_sales.values, marker='o')\n",
    "plt.title('Monthly Sales Pattern')\n",
    "plt.xlabel('Month')\n",
    "plt.ylabel('Total Sales')\n",
    "plt.xticks(range(1, 13))\n",
    "plt.show()\n"
   ],
   "id": "253d157a9f049f12"
  },
  {
   "metadata": {},
   "cell_type": "markdown",
   "source": [
    "Boxplots for Distribution:\n",
    "\n",
    "Understand the distribution of sales, prices, etc., across different categories."
   ],
   "id": "c5e2f331cc6ec861"
  },
  {
   "metadata": {},
   "cell_type": "code",
   "outputs": [],
   "execution_count": null,
   "source": [
    "sns.boxplot(x='Drug Name', y='Sales', data=data)\n",
    "plt.xticks(rotation=45)\n",
    "plt.title('Sales Distribution Across Drugs')\n",
    "plt.show()\n"
   ],
   "id": "3e70cd1980a7a09f"
  },
  {
   "metadata": {},
   "cell_type": "markdown",
   "source": [
    "Feature Relationships:\n",
    "\n",
    "Analyze relationships like sales vs. retail price or sales vs. buffer stock."
   ],
   "id": "d51057fd79556804"
  },
  {
   "metadata": {},
   "cell_type": "code",
   "outputs": [],
   "execution_count": null,
   "source": [
    "sns.scatterplot(x='Retail Price', y='Sales', hue='Drug Name', data=data)\n",
    "plt.title('Sales vs. Retail Price')\n",
    "plt.show()\n"
   ],
   "id": "b946d6ba9d8b883f"
  }
 ],
 "metadata": {
  "kernelspec": {
   "display_name": "Python 3",
   "language": "python",
   "name": "python3"
  },
  "language_info": {
   "codemirror_mode": {
    "name": "ipython",
    "version": 2
   },
   "file_extension": ".py",
   "mimetype": "text/x-python",
   "name": "python",
   "nbconvert_exporter": "python",
   "pygments_lexer": "ipython2",
   "version": "2.7.6"
  }
 },
 "nbformat": 4,
 "nbformat_minor": 5
}

{
 "cells": [
  {
   "cell_type": "code",
   "execution_count": null,
   "id": "initial_id",
   "metadata": {
    "collapsed": true
   },
   "outputs": [],
   "source": [
    "import pandas as pd\n",
    "import numpy as np\n",
    "import matplotlib.pyplot as plt\n",
    "import statsmodels.api as sm\n",
    "from pmdarima import auto_arima\n",
    "from statsmodels.tsa.arima.model import ARIMA\n",
    "from datetime import timedelta"
   ]
  },
  {
   "metadata": {},
   "cell_type": "code",
   "outputs": [],
   "execution_count": null,
   "source": [
    "# Load the dataset\n",
    "file_path = \"C:/Users/ASUS/OneDrive/Desktop/Drug_Data_Featured.xlsx\"\n",
    "df = pd.read_excel(file_path)"
   ],
   "id": "a68d9cc96ef35922"
  },
  {
   "metadata": {},
   "cell_type": "code",
   "outputs": [],
   "execution_count": null,
   "source": [
    "# Convert Date column to datetime\n",
    "df['Date'] = pd.to_datetime(df['Date'])\n",
    "\n",
    "# Aggregate sales data for each month (assuming daily data)\n",
    "df_monthly = df.groupby(['Year', 'Month', 'Drug Name'])['Sales'].sum().reset_index()\n",
    "\n",
    "# Create a proper Date index\n",
    "df_monthly['Date'] = pd.to_datetime(df_monthly[['Year', 'Month']].assign(day=1))\n",
    "df_monthly.set_index('Date', inplace=True)"
   ],
   "id": "f5e306afd94efea2"
  },
  {
   "metadata": {},
   "cell_type": "code",
   "outputs": [],
   "execution_count": null,
   "source": [
    "# Select a specific drug for modeling (Example: 'GLIMEPRIDE')\n",
    "drug_name = \"GLIMEPRIDE\"\n",
    "df_drug = df_monthly[df_monthly[\"Drug Name\"] == drug_name][[\"Sales\"]]\n",
    "\n",
    "# Plot the Sales Data\n",
    "plt.figure(figsize=(10, 5))\n",
    "plt.plot(df_drug, label='Historical Sales')\n",
    "plt.title(f'Sales Trend for {drug_name}')\n",
    "plt.xlabel('Date')\n",
    "plt.ylabel('Sales')\n",
    "plt.legend()\n",
    "plt.show()"
   ],
   "id": "eb107018ea80cfd8"
  },
  {
   "metadata": {},
   "cell_type": "code",
   "outputs": [],
   "execution_count": null,
   "source": [
    "# Check for Stationarity\n",
    "from statsmodels.tsa.stattools import adfuller\n",
    "\n",
    "result = adfuller(df_drug[\"Sales\"].dropna())\n",
    "print(f\"ADF Statistic: {result[0]}\")\n",
    "print(f\"p-value: {result[1]}\")\n",
    "if result[1] > 0.05:\n",
    "    print(\"Data is not stationary. Differencing is required.\")\n",
    "    df_drug[\"Sales_diff\"] = df_drug[\"Sales\"].diff().dropna()\n",
    "else:\n",
    "    print(\"Data is stationary. No differencing needed.\")"
   ],
   "id": "1aece0cbfcabef8d"
  },
  {
   "metadata": {},
   "cell_type": "code",
   "outputs": [],
   "execution_count": null,
   "source": [
    "# Determine ARIMA (p, d, q) using Auto ARIMA\n",
    "auto_model = auto_arima(df_drug[\"Sales\"].dropna(), seasonal=True, m=12,\n",
    "                        stepwise=True, suppress_warnings=True)\n",
    "print(f\"Best ARIMA order: {auto_model.order}\")"
   ],
   "id": "53d88fecdaba370b"
  },
  {
   "metadata": {},
   "cell_type": "code",
   "outputs": [],
   "execution_count": null,
   "source": [
    "# Train ARIMA Model\n",
    "p, d, q = auto_model.order\n",
    "model = ARIMA(df_drug[\"Sales\"], order=(p, d, q))\n",
    "model_fit = model.fit()"
   ],
   "id": "2f59314c463013ab"
  },
  {
   "metadata": {},
   "cell_type": "code",
   "outputs": [],
   "execution_count": null,
   "source": [
    "# Forecast the next 6 months\n",
    "future_steps = 6\n",
    "future_dates = [df_drug.index[-1] + timedelta(days=30 * i) for i in range(1, future_steps + 1)]\n",
    "forecast = model_fit.forecast(steps=future_steps)"
   ],
   "id": "6fe30d6ac11d70c7"
  },
  {
   "metadata": {},
   "cell_type": "code",
   "outputs": [],
   "execution_count": null,
   "source": [
    "# Convert forecast to DataFrame\n",
    "forecast_df = pd.DataFrame({'Date': future_dates, 'Predicted Sales': forecast})\n",
    "forecast_df.set_index('Date', inplace=True)\n",
    "\n",
    "# Plot Predictions\n",
    "plt.figure(figsize=(10, 5))\n",
    "plt.plot(df_drug, label='Historical Sales')\n",
    "plt.plot(forecast_df, label='Forecasted Sales', linestyle='dashed', color='red')\n",
    "plt.title(f'Sales Forecast for {drug_name} (Next 6 Months)')\n",
    "plt.xlabel('Date')\n",
    "plt.ylabel('Sales')\n",
    "plt.legend()\n",
    "plt.show()"
   ],
   "id": "da71f0cdc3c55fb1"
  },
  {
   "metadata": {},
   "cell_type": "code",
   "outputs": [],
   "execution_count": null,
   "source": [
    "# Save the results\n",
    "output_file = \"C:/Users/ASUS/OneDrive/Desktop/arima_predictions.xlsx\"\n",
    "forecast_df.to_excel(output_file)\n",
    "print(f\"Predictions saved successfully to {output_file}\")"
   ],
   "id": "7543cf238d87c345"
  }
 ],
 "metadata": {
  "kernelspec": {
   "display_name": "Python 3",
   "language": "python",
   "name": "python3"
  },
  "language_info": {
   "codemirror_mode": {
    "name": "ipython",
    "version": 2
   },
   "file_extension": ".py",
   "mimetype": "text/x-python",
   "name": "python",
   "nbconvert_exporter": "python",
   "pygments_lexer": "ipython2",
   "version": "2.7.6"
  }
 },
 "nbformat": 4,
 "nbformat_minor": 5
}
